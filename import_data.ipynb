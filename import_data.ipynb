{
 "cells": [
  {
   "cell_type": "code",
   "execution_count": 4,
   "metadata": {
    "collapsed": true
   },
   "outputs": [],
   "source": [
    "from imageio import imread\n",
    "import os\n",
    "import numpy as np\n",
    "import pandas as pd"
   ]
  },
  {
   "cell_type": "code",
   "execution_count": 5,
   "outputs": [],
   "source": [
    "def load_and_flatten_image(imagePath):\n",
    "    image = imread(imagePath)\n",
    "    image_single_channel = image[:,:,0]\n",
    "    image_array = image_single_channel[-1]\n",
    "    return image_array"
   ],
   "metadata": {
    "collapsed": false,
    "pycharm": {
     "name": "#%%\n"
    }
   }
  },
  {
   "cell_type": "code",
   "execution_count": 28,
   "outputs": [
    {
     "data": {
      "text/plain": "  label                                             images\n0     a  [143, 143, 147, 156, 164, 162, 152, 142, 148, ...\n1     a  [81, 81, 80, 80, 80, 82, 84, 85, 80, 83, 88, 9...\n2     a  [66, 66, 65, 65, 64, 63, 63, 63, 57, 56, 55, 5...\n3     a  [107, 106, 105, 104, 104, 105, 106, 107, 104, ...\n4     a  [98, 98, 99, 100, 100, 101, 102, 102, 96, 95, ...",
      "text/html": "<div>\n<style scoped>\n    .dataframe tbody tr th:only-of-type {\n        vertical-align: middle;\n    }\n\n    .dataframe tbody tr th {\n        vertical-align: top;\n    }\n\n    .dataframe thead th {\n        text-align: right;\n    }\n</style>\n<table border=\"1\" class=\"dataframe\">\n  <thead>\n    <tr style=\"text-align: right;\">\n      <th></th>\n      <th>label</th>\n      <th>images</th>\n    </tr>\n  </thead>\n  <tbody>\n    <tr>\n      <th>0</th>\n      <td>a</td>\n      <td>[143, 143, 147, 156, 164, 162, 152, 142, 148, ...</td>\n    </tr>\n    <tr>\n      <th>1</th>\n      <td>a</td>\n      <td>[81, 81, 80, 80, 80, 82, 84, 85, 80, 83, 88, 9...</td>\n    </tr>\n    <tr>\n      <th>2</th>\n      <td>a</td>\n      <td>[66, 66, 65, 65, 64, 63, 63, 63, 57, 56, 55, 5...</td>\n    </tr>\n    <tr>\n      <th>3</th>\n      <td>a</td>\n      <td>[107, 106, 105, 104, 104, 105, 106, 107, 104, ...</td>\n    </tr>\n    <tr>\n      <th>4</th>\n      <td>a</td>\n      <td>[98, 98, 99, 100, 100, 101, 102, 102, 96, 95, ...</td>\n    </tr>\n  </tbody>\n</table>\n</div>"
     },
     "execution_count": 28,
     "metadata": {},
     "output_type": "execute_result"
    }
   ],
   "source": [
    "path = \"C:\\\\Users\\\\PC\\\\Documents\\\\Bart\\\\opdracht\\\\machine_learning\\\\test\"\n",
    "cpt = sum([len(files) for r, d, files in os.walk(path)])\n",
    "data_array = np.empty([cpt, 352*640], dtype=np.uint8)\n",
    "label_array = np.empty([cpt], dtype=np.str_)\n",
    "counter = 0\n",
    "for root, dirs, files in os.walk(path):\n",
    "    for dirname in dirs:\n",
    "        for root2, dirs2, files2 in os.walk(os.path.join(path, dirname)):\n",
    "            for filename in files2:\n",
    "                image = load_and_flatten_image(os.path.join(os.path.join(path, dirname), filename))\n",
    "                for key, pixel in enumerate(image):\n",
    "                    data_array[counter][key] = pixel\n",
    "                label_array[counter] = dirname\n",
    "                counter += 1\n",
    "\n",
    "dataset = pd.DataFrame({'label': label_array, 'images': list(data_array)}, columns=['label', 'images'])\n",
    "dataset.head()\n",
    "\n",
    "\n"
   ],
   "metadata": {
    "collapsed": false,
    "pycharm": {
     "name": "#%%\n"
    }
   }
  },
  {
   "cell_type": "code",
   "execution_count": null,
   "outputs": [],
   "source": [],
   "metadata": {
    "collapsed": false,
    "pycharm": {
     "name": "#%%\n"
    }
   }
  }
 ],
 "metadata": {
  "kernelspec": {
   "display_name": "Python 3",
   "language": "python",
   "name": "python3"
  },
  "language_info": {
   "codemirror_mode": {
    "name": "ipython",
    "version": 2
   },
   "file_extension": ".py",
   "mimetype": "text/x-python",
   "name": "python",
   "nbconvert_exporter": "python",
   "pygments_lexer": "ipython2",
   "version": "2.7.6"
  }
 },
 "nbformat": 4,
 "nbformat_minor": 0
}