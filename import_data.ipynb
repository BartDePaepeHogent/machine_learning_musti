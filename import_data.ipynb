{
 "cells": [
  {
   "cell_type": "code",
   "execution_count": 1,
   "metadata": {
    "collapsed": true
   },
   "outputs": [],
   "source": [
    "from imageio import imread\n",
    "import os\n",
    "import numpy as np\n",
    "import pandas as pd"
   ]
  },
  {
   "cell_type": "code",
   "execution_count": 2,
   "outputs": [],
   "source": [
    "def load_and_flatten_image(imagePath):\n",
    "    image = imread(imagePath)\n",
    "    image_single_channel = image[:,:,0]\n",
    "    image_array = image_single_channel.flatten()\n",
    "    return image_array"
   ],
   "metadata": {
    "collapsed": false,
    "pycharm": {
     "name": "#%%\n"
    }
   }
  },
  {
   "cell_type": "code",
   "execution_count": 3,
   "outputs": [
    {
     "data": {
      "text/plain": "<bound method Series.info of 0       [125, 71, 116, 109, 109, 117, 76, 136, 103, 13...\n1       [125, 71, 116, 109, 109, 117, 76, 136, 105, 13...\n2       [118, 78, 123, 102, 102, 124, 84, 128, 105, 13...\n3       [119, 81, 128, 109, 109, 129, 86, 129, 104, 13...\n4       [124, 71, 119, 114, 114, 120, 77, 134, 107, 13...\n                              ...                        \n2635    [125, 71, 116, 109, 109, 117, 76, 136, 101, 13...\n2636    [109, 64, 100, 88, 108, 75, 76, 110, 85, 110, ...\n2637    [114, 55, 119, 87, 101, 83, 62, 117, 95, 110, ...\n2638    [112, 63, 111, 102, 94, 98, 61, 125, 94, 118, ...\n2639    [87, 48, 85, 78, 91, 62, 61, 99, 74, 100, 67, ...\nName: images, Length: 2640, dtype: object>"
     },
     "execution_count": 3,
     "metadata": {},
     "output_type": "execute_result"
    }
   ],
   "source": [
    "path = \"classificatie\"\n",
    "cpt = sum([len(files) for r, d, files in os.walk(path)])\n",
    "data_array = np.empty([cpt, 352*640], dtype=np.uint8)\n",
    "label_array = np.empty([cpt], dtype=np.str_)\n",
    "counter = 0\n",
    "for root, dirs, files in os.walk(path):\n",
    "    for dirname in dirs:\n",
    "        for root2, dirs2, files2 in os.walk(os.path.join(path, dirname)):\n",
    "            for filename in files2:\n",
    "                image = load_and_flatten_image(os.path.join(os.path.join(path, dirname), filename))\n",
    "                for key, pixel in enumerate(image):\n",
    "                    data_array[counter][key] = pixel\n",
    "                label_array[counter] = dirname\n",
    "                counter += 1\n",
    "\n",
    "dataset = pd.DataFrame({'label': label_array, 'images': list(data_array)}, columns=['label', 'images'])\n",
    "dataset.images.info\n",
    "\n"
   ],
   "metadata": {
    "collapsed": false,
    "pycharm": {
     "name": "#%%\n"
    }
   }
  },
  {
   "cell_type": "code",
   "execution_count": 7,
   "outputs": [
    {
     "data": {
      "text/plain": "225280"
     },
     "execution_count": 7,
     "metadata": {},
     "output_type": "execute_result"
    }
   ],
   "source": [
    "len(dataset.images[0])"
   ],
   "metadata": {
    "collapsed": false,
    "pycharm": {
     "name": "#%%\n"
    }
   }
  },
  {
   "cell_type": "code",
   "execution_count": 8,
   "outputs": [
    {
     "data": {
      "text/plain": "<bound method Series.info of 0       a\n1       a\n2       a\n3       a\n4       a\n       ..\n2635    n\n2636    n\n2637    n\n2638    n\n2639    n\nName: label, Length: 2640, dtype: object>"
     },
     "execution_count": 8,
     "metadata": {},
     "output_type": "execute_result"
    }
   ],
   "source": [
    "dataset.label.info"
   ],
   "metadata": {
    "collapsed": false,
    "pycharm": {
     "name": "#%%\n"
    }
   }
  },
  {
   "cell_type": "code",
   "execution_count": null,
   "outputs": [],
   "source": [],
   "metadata": {
    "collapsed": false,
    "pycharm": {
     "name": "#%%\n"
    }
   }
  }
 ],
 "metadata": {
  "kernelspec": {
   "display_name": "Python 3",
   "language": "python",
   "name": "python3"
  },
  "language_info": {
   "codemirror_mode": {
    "name": "ipython",
    "version": 2
   },
   "file_extension": ".py",
   "mimetype": "text/x-python",
   "name": "python",
   "nbconvert_exporter": "python",
   "pygments_lexer": "ipython2",
   "version": "2.7.6"
  }
 },
 "nbformat": 4,
 "nbformat_minor": 0
}