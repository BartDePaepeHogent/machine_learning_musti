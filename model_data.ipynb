{
 "cells": [
  {
   "cell_type": "code",
   "execution_count": 1,
   "metadata": {
    "collapsed": true
   },
   "outputs": [],
   "source": [
    "from imageio import imread\n",
    "import os\n",
    "from skimage.transform import resize\n",
    "import cv2\n",
    "import numpy as np\n",
    "import pandas as pd"
   ]
  },
  {
   "cell_type": "code",
   "execution_count": 2,
   "outputs": [],
   "source": [
    "def load_and_flatten_image(imagePath, width, height):\n",
    "    image = imread(imagePath)\n",
    "    #small_image = resize(image, (11, 20))\n",
    "    image_single_channel = image[:,:,0]\n",
    "    small_image = cv2.resize(image_single_channel, (width, height))\n",
    "    image_array = small_image.flatten()\n",
    "    return image_array"
   ],
   "metadata": {
    "collapsed": false,
    "pycharm": {
     "name": "#%%\n"
    }
   }
  },
  {
   "cell_type": "code",
   "execution_count": 3,
   "outputs": [
    {
     "data": {
      "text/plain": "  label                                             images\n0     a  [109, 128, 128, 94, 104, 102, 126, 54, 74, 92,...\n1     a  [111, 128, 129, 93, 104, 98, 126, 53, 73, 91, ...\n2     a  [106, 115, 108, 88, 100, 93, 107, 45, 61, 70, ...\n3     a  [110, 118, 112, 92, 103, 94, 110, 47, 63, 75, ...\n4     a  [106, 115, 109, 89, 99, 91, 106, 46, 63, 74, 7...",
      "text/html": "<div>\n<style scoped>\n    .dataframe tbody tr th:only-of-type {\n        vertical-align: middle;\n    }\n\n    .dataframe tbody tr th {\n        vertical-align: top;\n    }\n\n    .dataframe thead th {\n        text-align: right;\n    }\n</style>\n<table border=\"1\" class=\"dataframe\">\n  <thead>\n    <tr style=\"text-align: right;\">\n      <th></th>\n      <th>label</th>\n      <th>images</th>\n    </tr>\n  </thead>\n  <tbody>\n    <tr>\n      <th>0</th>\n      <td>a</td>\n      <td>[109, 128, 128, 94, 104, 102, 126, 54, 74, 92,...</td>\n    </tr>\n    <tr>\n      <th>1</th>\n      <td>a</td>\n      <td>[111, 128, 129, 93, 104, 98, 126, 53, 73, 91, ...</td>\n    </tr>\n    <tr>\n      <th>2</th>\n      <td>a</td>\n      <td>[106, 115, 108, 88, 100, 93, 107, 45, 61, 70, ...</td>\n    </tr>\n    <tr>\n      <th>3</th>\n      <td>a</td>\n      <td>[110, 118, 112, 92, 103, 94, 110, 47, 63, 75, ...</td>\n    </tr>\n    <tr>\n      <th>4</th>\n      <td>a</td>\n      <td>[106, 115, 109, 89, 99, 91, 106, 46, 63, 74, 7...</td>\n    </tr>\n  </tbody>\n</table>\n</div>"
     },
     "execution_count": 3,
     "metadata": {},
     "output_type": "execute_result"
    }
   ],
   "source": [
    "path = \"classificatie\"\n",
    "width = 20\n",
    "height = 11\n",
    "cpt = sum([len(files) for r, d, files in os.walk(path)])\n",
    "data_array = np.empty([cpt, height*width], dtype=np.uint8)\n",
    "label_array = np.empty([cpt], dtype=np.str_)\n",
    "counter = 0\n",
    "for root, dirs, files in os.walk(path):\n",
    "    for dirname in dirs:\n",
    "        for root2, dirs2, files2 in os.walk(os.path.join(path, dirname)):\n",
    "            for filename in files2:\n",
    "                image = load_and_flatten_image(os.path.join(os.path.join(path, dirname), filename), width, height)\n",
    "                for key, pixel in enumerate(image):\n",
    "                    data_array[counter][key] = pixel\n",
    "                label_array[counter] = dirname\n",
    "                counter += 1\n",
    "\n",
    "dataset = pd.DataFrame({'label': label_array, 'images': list(data_array)}, columns=['label', 'images'])\n",
    "dataset.head()"
   ],
   "metadata": {
    "collapsed": false,
    "pycharm": {
     "name": "#%%\n"
    }
   }
  },
  {
   "cell_type": "code",
   "execution_count": 4,
   "outputs": [
    {
     "data": {
      "text/plain": "  label                                             images\n0     1  [109, 128, 128, 94, 104, 102, 126, 54, 74, 92,...\n1     1  [111, 128, 129, 93, 104, 98, 126, 53, 73, 91, ...\n2     1  [106, 115, 108, 88, 100, 93, 107, 45, 61, 70, ...\n3     1  [110, 118, 112, 92, 103, 94, 110, 47, 63, 75, ...\n4     1  [106, 115, 109, 89, 99, 91, 106, 46, 63, 74, 7...",
      "text/html": "<div>\n<style scoped>\n    .dataframe tbody tr th:only-of-type {\n        vertical-align: middle;\n    }\n\n    .dataframe tbody tr th {\n        vertical-align: top;\n    }\n\n    .dataframe thead th {\n        text-align: right;\n    }\n</style>\n<table border=\"1\" class=\"dataframe\">\n  <thead>\n    <tr style=\"text-align: right;\">\n      <th></th>\n      <th>label</th>\n      <th>images</th>\n    </tr>\n  </thead>\n  <tbody>\n    <tr>\n      <th>0</th>\n      <td>1</td>\n      <td>[109, 128, 128, 94, 104, 102, 126, 54, 74, 92,...</td>\n    </tr>\n    <tr>\n      <th>1</th>\n      <td>1</td>\n      <td>[111, 128, 129, 93, 104, 98, 126, 53, 73, 91, ...</td>\n    </tr>\n    <tr>\n      <th>2</th>\n      <td>1</td>\n      <td>[106, 115, 108, 88, 100, 93, 107, 45, 61, 70, ...</td>\n    </tr>\n    <tr>\n      <th>3</th>\n      <td>1</td>\n      <td>[110, 118, 112, 92, 103, 94, 110, 47, 63, 75, ...</td>\n    </tr>\n    <tr>\n      <th>4</th>\n      <td>1</td>\n      <td>[106, 115, 109, 89, 99, 91, 106, 46, 63, 74, 7...</td>\n    </tr>\n  </tbody>\n</table>\n</div>"
     },
     "execution_count": 4,
     "metadata": {},
     "output_type": "execute_result"
    }
   ],
   "source": [
    "for index in range(len(dataset)):\n",
    "    int_value = \"1\" if dataset.loc[index,\"label\"] == \"a\" else \"2\" if dataset.loc[index,\"label\"] == \"b\" else \"3\"\n",
    "    dataset.loc[index,\"label\"] = int_value\n",
    "dataset.head()"
   ],
   "metadata": {
    "collapsed": false,
    "pycharm": {
     "name": "#%%\n"
    }
   }
  },
  {
   "cell_type": "code",
   "execution_count": 5,
   "outputs": [],
   "source": [
    "dataset.label = dataset.label.astype(np.uint8)"
   ],
   "metadata": {
    "collapsed": false,
    "pycharm": {
     "name": "#%%\n"
    }
   }
  },
  {
   "cell_type": "code",
   "execution_count": 6,
   "outputs": [
    {
     "data": {
      "text/plain": "<bound method Series.info of 0       1\n1       1\n2       1\n3       1\n4       1\n       ..\n2635    3\n2636    3\n2637    3\n2638    3\n2639    3\nName: label, Length: 2640, dtype: uint8>"
     },
     "execution_count": 6,
     "metadata": {},
     "output_type": "execute_result"
    }
   ],
   "source": [
    "dataset.label.info"
   ],
   "metadata": {
    "collapsed": false,
    "pycharm": {
     "name": "#%%\n"
    }
   }
  },
  {
   "cell_type": "code",
   "execution_count": 7,
   "outputs": [
    {
     "name": "stdout",
     "output_type": "stream",
     "text": [
      "1\n"
     ]
    }
   ],
   "source": [
    "from sklearn.model_selection import StratifiedShuffleSplit\n",
    "\n",
    "split = StratifiedShuffleSplit(n_splits=1, test_size=0.2, random_state=42)\n",
    "tel = 0\n",
    "for train_index, test_index in split.split(dataset, dataset[\"label\"]):\n",
    "    tel += 1\n",
    "    print(tel)\n",
    "    strat_train_set = dataset.loc[train_index]\n",
    "    strat_test_set = dataset.loc[test_index]"
   ],
   "metadata": {
    "collapsed": false,
    "pycharm": {
     "name": "#%%\n"
    }
   }
  },
  {
   "cell_type": "code",
   "execution_count": 8,
   "outputs": [],
   "source": [
    "X_train, y_train = strat_train_set[\"images\"], strat_train_set[\"label\"]"
   ],
   "metadata": {
    "collapsed": false,
    "pycharm": {
     "name": "#%%\n"
    }
   }
  },
  {
   "cell_type": "code",
   "execution_count": 9,
   "outputs": [],
   "source": [
    "y_train_n = (y_train == 1)"
   ],
   "metadata": {
    "collapsed": false,
    "pycharm": {
     "name": "#%%\n"
    }
   }
  },
  {
   "cell_type": "code",
   "execution_count": 10,
   "outputs": [
    {
     "data": {
      "text/plain": "<Figure size 432x288 with 1 Axes>",
      "image/png": "[encoded data removed]"
     },
     "metadata": {
      "needs_background": "light"
     },
     "output_type": "display_data"
    }
   ],
   "source": [
    "%matplotlib inline\n",
    "import matplotlib as mpl\n",
    "import matplotlib.pyplot as plt\n",
    "image = X_train[0]\n",
    "\n",
    "\n",
    "some_digit_image = image.reshape(height, width)\n",
    "plt.imshow(some_digit_image, cmap=mpl.cm.binary)\n",
    "plt.axis(\"off\")\n",
    "\n",
    "plt.show()\n"
   ],
   "metadata": {
    "collapsed": false,
    "pycharm": {
     "name": "#%%\n"
    }
   }
  },
  {
   "cell_type": "code",
   "execution_count": 13,
   "outputs": [
    {
     "data": {
      "text/plain": "count                                                  2112\nunique                                                 2112\ntop       [92, 92, 86, 98, 100, 96, 60, 65, 77, 94, 85, ...\nfreq                                                      1\nName: images, dtype: object"
     },
     "execution_count": 13,
     "metadata": {},
     "output_type": "execute_result"
    }
   ],
   "source": [
    "X_train.describe()"
   ],
   "metadata": {
    "collapsed": false,
    "pycharm": {
     "name": "#%%\n"
    }
   }
  },
  {
   "cell_type": "code",
   "execution_count": 14,
   "outputs": [
    {
     "data": {
      "text/plain": "count      2112\nunique        2\ntop       False\nfreq       1430\nName: label, dtype: object"
     },
     "execution_count": 14,
     "metadata": {},
     "output_type": "execute_result"
    }
   ],
   "source": [
    "y_train_n.describe()"
   ],
   "metadata": {
    "collapsed": false,
    "pycharm": {
     "name": "#%%\n"
    }
   }
  },
  {
   "cell_type": "code",
   "execution_count": 19,
   "outputs": [
    {
     "data": {
      "text/plain": "array([[ 92.,  92.,  86., ..., 202., 205.,  85.],\n       [ 92.,  91.,  87., ..., 203., 204.,  80.],\n       [ 95., 103., 108., ..., 101., 151.,  88.],\n       ...,\n       [105., 123., 127., ...,  92., 132.,  57.],\n       [ 92.,  89.,  87., ..., 203., 205.,  78.],\n       [ 77.,  79.,  80., ..., 122., 185.,  89.]])"
     },
     "execution_count": 19,
     "metadata": {},
     "output_type": "execute_result"
    }
   ],
   "source": [
    "X_train_array = X_train.to_numpy()\n",
    "X_train_array_exploded = np.zeros((2112,220))\n",
    "for idx, x in np.ndenumerate(X_train_array):\n",
    "    for idy, y in np.ndenumerate(x):\n",
    "        X_train_array_exploded[idx][idy] = y\n",
    "X_train_array_exploded"
   ],
   "metadata": {
    "collapsed": false,
    "pycharm": {
     "name": "#%%\n"
    }
   }
  },
  {
   "cell_type": "code",
   "execution_count": 20,
   "outputs": [
    {
     "data": {
      "text/plain": "array([ True,  True, False, ..., False, False, False])"
     },
     "execution_count": 20,
     "metadata": {},
     "output_type": "execute_result"
    }
   ],
   "source": [
    "y_train_n_array = y_train_n.to_numpy()\n",
    "y_train_n_array"
   ],
   "metadata": {
    "collapsed": false,
    "pycharm": {
     "name": "#%%\n"
    }
   }
  },
  {
   "cell_type": "code",
   "execution_count": 21,
   "outputs": [
    {
     "data": {
      "text/plain": "RandomForestRegressor(random_state=42)"
     },
     "execution_count": 21,
     "metadata": {},
     "output_type": "execute_result"
    }
   ],
   "source": [
    "'''\n",
    "from sklearn.linear_model import SGDClassifier\n",
    "\n",
    "sgd_clf = SGDClassifier(max_iter=1000, tol=1e-3, random_state=42)\n",
    "sgd_clf.fit(X_train, y_train_n)\n",
    "'''\n",
    "from sklearn.ensemble import RandomForestRegressor\n",
    "\n",
    "forest_reg = RandomForestRegressor(n_estimators=100, random_state=42)\n",
    "forest_reg.fit(X_train_array_exploded, y_train_n_array)"
   ],
   "metadata": {
    "collapsed": false,
    "pycharm": {
     "name": "#%%\n"
    }
   }
  },
  {
   "cell_type": "code",
   "execution_count": 24,
   "outputs": [
    {
     "data": {
      "text/plain": "771     [92, 90, 85, 90, 100, 103, 50, 64, 80, 87, 84,...\n1466    [104, 112, 107, 122, 102, 104, 86, 57, 74, 71,...\n2063    [132, 130, 129, 132, 129, 125, 115, 77, 87, 10...\n2562    [133, 131, 129, 112, 114, 115, 136, 55, 74, 87...\n854     [111, 128, 129, 93, 103, 101, 125, 53, 72, 93,...\n                              ...                        \n476     [102, 114, 118, 105, 109, 111, 136, 49, 66, 81...\n1988    [102, 114, 115, 86, 104, 104, 136, 46, 64, 78,...\n2501    [133, 131, 129, 95, 102, 103, 124, 51, 68, 84,...\n206     [104, 114, 116, 93, 104, 105, 128, 47, 67, 80,...\n1077    [90, 89, 86, 106, 101, 102, 66, 65, 76, 89, 83...\nName: images, Length: 528, dtype: object"
     },
     "execution_count": 24,
     "metadata": {},
     "output_type": "execute_result"
    }
   ],
   "source": [
    "X_test, y_test = strat_test_set[\"images\"], strat_test_set[\"label\"]\n",
    "#some_image = X_test[0]\n",
    "#some_image\n",
    "#forest_reg.predict([some_image])\n",
    "X_test"
   ],
   "metadata": {
    "collapsed": false,
    "pycharm": {
     "name": "#%%\n"
    }
   }
  },
  {
   "cell_type": "code",
   "execution_count": 25,
   "outputs": [
    {
     "data": {
      "text/plain": "array([[ 92.,  90.,  85., ..., 203., 202.,  84.],\n       [104., 112., 107., ..., 164., 179.,  87.],\n       [132., 130., 129., ..., 231., 233., 105.],\n       ...,\n       [133., 131., 129., ..., 122., 176.,  80.],\n       [104., 114., 116., ..., 122., 157.,  90.],\n       [ 90.,  89.,  86., ..., 202., 203.,  80.]])"
     },
     "execution_count": 25,
     "metadata": {},
     "output_type": "execute_result"
    }
   ],
   "source": [
    "X_test_array = X_test.to_numpy()\n",
    "X_test_array_exploded = np.zeros((528,220))\n",
    "for idx, x in np.ndenumerate(X_test_array):\n",
    "    for idy, y in np.ndenumerate(x):\n",
    "        X_test_array_exploded[idx][idy] = y\n",
    "X_test_array_exploded"
   ],
   "metadata": {
    "collapsed": false,
    "pycharm": {
     "name": "#%%\n"
    }
   }
  },
  {
   "cell_type": "code",
   "execution_count": 27,
   "outputs": [
    {
     "data": {
      "text/plain": "array([0.9])"
     },
     "execution_count": 27,
     "metadata": {},
     "output_type": "execute_result"
    }
   ],
   "source": [
    "some_image = X_test_array_exploded[0]\n",
    "#some_image\n",
    "forest_reg.predict([some_image])"
   ],
   "metadata": {
    "collapsed": false,
    "pycharm": {
     "name": "#%%\n"
    }
   }
  },
  {
   "cell_type": "code",
   "execution_count": null,
   "outputs": [],
   "source": [],
   "metadata": {
    "collapsed": false,
    "pycharm": {
     "name": "#%%\n"
    }
   }
  }
 ],
 "metadata": {
  "kernelspec": {
   "display_name": "Python 3",
   "language": "python",
   "name": "python3"
  },
  "language_info": {
   "codemirror_mode": {
    "name": "ipython",
    "version": 2
   },
   "file_extension": ".py",
   "mimetype": "text/x-python",
   "name": "python",
   "nbconvert_exporter": "python",
   "pygments_lexer": "ipython2",
   "version": "2.7.6"
  }
 },
 "nbformat": 4,
 "nbformat_minor": 0
}