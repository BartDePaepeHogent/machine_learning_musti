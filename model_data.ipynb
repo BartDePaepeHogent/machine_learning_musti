{
 "cells": [
  {
   "cell_type": "code",
   "execution_count": null,
   "metadata": {
    "collapsed": true
   },
   "outputs": [],
   "source": [
    "from imageio import imread\n",
    "import os\n",
    "import numpy as np\n",
    "import pandas as pd"
   ]
  },
  {
   "cell_type": "code",
   "execution_count": null,
   "outputs": [],
   "source": [
    "def load_and_flatten_image(imagePath):\n",
    "    image = imread(imagePath)\n",
    "    image_single_channel = image[:,:,0]\n",
    "    image_array = image_single_channel[-1]\n",
    "    return image_array"
   ],
   "metadata": {
    "collapsed": false,
    "pycharm": {
     "name": "#%%\n"
    }
   }
  },
  {
   "cell_type": "code",
   "execution_count": null,
   "outputs": [],
   "source": [
    "path = \"classificatie\"\n",
    "cpt = sum([len(files) for r, d, files in os.walk(path)])\n",
    "data_array = np.empty([cpt, 352*640], dtype=np.uint8)\n",
    "label_array = np.empty([cpt], dtype=np.str_)\n",
    "counter = 0\n",
    "for root, dirs, files in os.walk(path):\n",
    "    for dirname in dirs:\n",
    "        for root2, dirs2, files2 in os.walk(os.path.join(path, dirname)):\n",
    "            for filename in files2:\n",
    "                image = load_and_flatten_image(os.path.join(os.path.join(path, dirname), filename))\n",
    "                for key, pixel in enumerate(image):\n",
    "                    data_array[counter][key] = pixel\n",
    "                label_array[counter] = dirname\n",
    "                counter += 1\n",
    "\n",
    "dataset = pd.DataFrame({'label': label_array, 'images': list(data_array)}, columns=['label', 'images'])\n",
    "dataset.head()"
   ],
   "metadata": {
    "collapsed": false,
    "pycharm": {
     "name": "#%%\n"
    }
   }
  },
  {
   "cell_type": "code",
   "execution_count": null,
   "outputs": [],
   "source": [
    "from sklearn.model_selection import StratifiedShuffleSplit\n",
    "\n",
    "split = StratifiedShuffleSplit(n_splits=1, test_size=0.2, random_state=42)\n",
    "tel = 0\n",
    "for train_index, test_index in split.split(dataset, dataset[\"label\"]):\n",
    "    tel += 1\n",
    "    print(tel)\n",
    "    strat_train_set = dataset.loc[train_index]\n",
    "    strat_test_set = dataset.loc[test_index]"
   ],
   "metadata": {
    "collapsed": false,
    "pycharm": {
     "name": "#%%\n"
    }
   }
  },
  {
   "cell_type": "code",
   "execution_count": null,
   "outputs": [],
   "source": [
    "X_train, y_train = strat_train_set[\"images\"], strat_train_set[\"label\"]"
   ],
   "metadata": {
    "collapsed": false,
    "pycharm": {
     "name": "#%%\n"
    }
   }
  },
  {
   "cell_type": "code",
   "execution_count": null,
   "outputs": [],
   "source": [
    "y_train_n = (y_train == 'n')"
   ],
   "metadata": {
    "collapsed": false,
    "pycharm": {
     "name": "#%%\n"
    }
   }
  },
  {
   "cell_type": "code",
   "execution_count": null,
   "outputs": [],
   "source": [
    "from sklearn.linear_model import SGDClassifier\n",
    "\n",
    "sgd_clf = SGDClassifier(max_iter=1000, tol=1e-3, random_state=42)\n",
    "sgd_clf.fit(X_train, y_train_n)"
   ],
   "metadata": {
    "collapsed": false,
    "pycharm": {
     "name": "#%%\n"
    }
   }
  },
  {
   "cell_type": "code",
   "execution_count": null,
   "outputs": [],
   "source": [
    "X_test, y_test = strat_test_set[\"images\"], strat_test_set[\"label\"]\n",
    "some_image = X_test[0]\n",
    "sgd_clf.predict([some_image])"
   ],
   "metadata": {
    "collapsed": false,
    "pycharm": {
     "name": "#%%\n"
    }
   }
  }
 ],
 "metadata": {
  "kernelspec": {
   "display_name": "Python 3",
   "language": "python",
   "name": "python3"
  },
  "language_info": {
   "codemirror_mode": {
    "name": "ipython",
    "version": 2
   },
   "file_extension": ".py",
   "mimetype": "text/x-python",
   "name": "python",
   "nbconvert_exporter": "python",
   "pygments_lexer": "ipython2",
   "version": "2.7.6"
  }
 },
 "nbformat": 4,
 "nbformat_minor": 0
}