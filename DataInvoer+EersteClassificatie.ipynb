{
 "cells": [
  {
   "cell_type": "code",
   "execution_count": 1,
   "metadata": {},
   "outputs": [],
   "source": [
    "from PIL import Image, ImageOps\n",
    "import numpy as np\n",
    "import os\n",
    "import pandas as pd\n",
    "from sklearn.model_selection import StratifiedShuffleSplit\n",
    "from sklearn.linear_model import SGDClassifier"
   ]
  },
  {
   "cell_type": "code",
   "execution_count": 2,
   "metadata": {},
   "outputs": [],
   "source": [
    "def aanmakenDf (groep, label):\n",
    "#Drie lege lijsten worden aangemaakt die dan uiteindelijk samen dataframe zullen vormen \n",
    "    Pixels= []\n",
    "    Label =[]\n",
    "    Naam=[]\n",
    "  \n",
    "#fotos inlezen en omzetten per groep. \n",
    "    for foto in os.listdir(groep):\n",
    "        beeld = Image.open(groep+foto)\n",
    "#fotos omzetten in grijswaarde of 2 dimensionele array ipv 3x2\n",
    "        beeld_grijs = ImageOps.grayscale(beeld)\n",
    "\n",
    "#fotos resizen voor leesbaarheid tijdens testen, en eventueel voor latere experimenten\n",
    "        beeld_formaat = beeld_grijs.resize((beeld_grijs.width // 32, beeld_grijs.height //32 ))       \n",
    "        \n",
    "#fotos omzetten naar numpy array\n",
    "        data_2dim = np.asarray(beeld_formaat, dtype=np.uint8)\n",
    "        data = data_2dim.flatten()\n",
    "\n",
    "#3 lijsten opvullen, eerste met data van foto, tweede met label en derde met naam van foto. \n",
    "#De lengte van elke lijst = aantal fotos in bijhorende map\n",
    "        Pixels.append(data)\n",
    "        Label.append(label)\n",
    "        Naam.append(foto)\n",
    "\n",
    "#Per groep worden de drie aangemaakte lijsten omgezet naar panda df\n",
    "    dict = {'data': Pixels, 'label': Label, 'naam': Naam}\n",
    "    df = pd.DataFrame(dict)\n",
    "    return df"
   ]
  },
  {
   "cell_type": "code",
   "execution_count": 3,
   "metadata": {},
   "outputs": [],
   "source": [
    "aanwezig = r\"classificatie/aanwezig/\"  #852 foto's \n",
    "buiten = r\"classificatie/buiten/\"       #389 foto's\n",
    "niets = r\"classificatie/niets/\"         #1399 foto's\n",
    "#Eerst wordt per map een panda dataframe aangemaakt\n",
    "nietsDf = aanmakenDf(niets, 0)\n",
    "aanwezigDf = aanmakenDf(aanwezig, 1)\n",
    "buitenDf = aanmakenDf(buiten, 2)\n",
    "#vervolgens worden ze alle drie samengevoegd tot 1 groot dataframe\n",
    "volledigDataframe = pd.concat([nietsDf, aanwezigDf, buitenDf], ignore_index=True)"
   ]
  },
  {
   "cell_type": "code",
   "execution_count": 4,
   "metadata": {},
   "outputs": [],
   "source": [
    "#Opsplitsen in gestratificieerde testset en trainingsset\n",
    "np.random.seed(42)\n",
    "split = StratifiedShuffleSplit(n_splits=1, test_size=0.2, random_state=42)\n",
    "for train_index, test_index in split.split(volledigDataframe, volledigDataframe['label']):\n",
    "    strat_train_set = volledigDataframe.loc[train_index]\n",
    "    strat_test_set = volledigDataframe.loc[test_index] \n",
    "#X = data, y = label. Dit voor trainingsset en testset  \n",
    "X_train, X_test, y_train, y_test = strat_train_set['data'], strat_test_set['data'], strat_train_set['label'], strat_test_set['label']"
   ]
  },
  {
   "cell_type": "code",
   "execution_count": 5,
   "metadata": {},
   "outputs": [
    {
     "data": {
      "text/plain": [
       "(2112, 220)"
      ]
     },
     "execution_count": 5,
     "metadata": {},
     "output_type": "execute_result"
    }
   ],
   "source": [
    "#Omzetten naar np.array\n",
    "X_train_array = np.array(X_train.tolist())\n",
    "X_test_array = np.array(X_test.tolist())\n",
    "\n",
    "X_train_array.shape"
   ]
  },
  {
   "cell_type": "code",
   "execution_count": 6,
   "metadata": {},
   "outputs": [
    {
     "data": {
      "text/plain": [
       "array([ True])"
      ]
     },
     "execution_count": 6,
     "metadata": {},
     "output_type": "execute_result"
    }
   ],
   "source": [
    "y_train_niets = (y_train == 0)\n",
    "y_test_niets = (y_test == 0)\n",
    "\n",
    "sgd_clf = SGDClassifier(max_iter=1000, tol=1e-3, random_state=42)\n",
    "sgd_clf.fit(X_train_array, y_train_niets)\n",
    "\n",
    "(sgd_clf.predict([X_test_array[0]]))"
   ]
  }
 ],
 "metadata": {
  "interpreter": {
   "hash": "55d263330900eac1e1f11d320664b4f1ad54abd5c72a47286ee5c6726dcf5d30"
  },
  "kernelspec": {
   "display_name": "Python 3.10.2 64-bit",
   "language": "python",
   "name": "python3"
  },
  "language_info": {
   "codemirror_mode": {
    "name": "ipython",
    "version": 3
   },
   "file_extension": ".py",
   "mimetype": "text/x-python",
   "name": "python",
   "nbconvert_exporter": "python",
   "pygments_lexer": "ipython3",
   "version": "3.10.2"
  },
  "orig_nbformat": 4
 },
 "nbformat": 4,
 "nbformat_minor": 2
}
