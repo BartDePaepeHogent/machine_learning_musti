{
 "cells": [
  {
   "cell_type": "code",
   "execution_count": 17,
   "metadata": {},
   "outputs": [],
   "source": [
    "from PIL import Image, ImageOps\n",
    "import numpy as np\n",
    "import os\n",
    "import pandas as pd\n",
    "import matplotlib.pyplot as plt\n",
    "import matplotlib as mpl\n",
    "from sklearn.model_selection import StratifiedShuffleSplit\n",
    "from sklearn.linear_model import SGDClassifier"
   ]
  },
  {
   "cell_type": "code",
   "execution_count": 20,
   "metadata": {},
   "outputs": [],
   "source": [
    "def aanmakenDf (groep, label):\n",
    "#Drie lege lijsten worden aangemaakt die dan uiteindelijk samen dataframe zullen vormen \n",
    "    Pixels= []\n",
    "    Label =[]\n",
    "    Naam=[]\n",
    "  \n",
    "#fotos inlezen en omzetten per groep. \n",
    "    for foto in os.listdir(groep):\n",
    "        beeld = Image.open(groep+foto)\n",
    "#fotos omzetten in grijswaarde of 2 dimensionele array ipv 3x2\n",
    "        beeld_grijs = ImageOps.grayscale(beeld)\n",
    "\n",
    "#fotos resizen voor leesbaarheid tijdens testen, en eventueel voor latere experimenten\n",
    "        beeld_formaat = beeld_grijs.resize((beeld_grijs.width // 1, beeld_grijs.height //1 ))       \n",
    "        \n",
    "#fotos omzetten naar numpy array\n",
    "        data_2dim = np.asarray(beeld_formaat, dtype=np.uint8)\n",
    "        data = data_2dim.flatten()\n",
    "\n",
    "#3 lijsten opvullen, eerste met data van foto, tweede met label en derde met naam van foto. \n",
    "#De lengte van elke lijst = aantal fotos in bijhorende map\n",
    "        Pixels.append(data)\n",
    "        Label.append(label)\n",
    "        Naam.append(foto)\n",
    "\n",
    "#Per groep worden de drie aangemaakte lijsten omgezet naar panda df\n",
    "    dict = {'data': Pixels, 'label': Label, 'naam': Naam}\n",
    "    df = pd.DataFrame(dict)\n",
    "    return df"
   ]
  },
  {
   "cell_type": "code",
   "execution_count": 21,
   "metadata": {},
   "outputs": [],
   "source": [
    "#Dataframe aanmaken\n",
    "aanwezig = r\"classificatie/aanwezig/\"  #852 foto's \n",
    "buiten = r\"classificatie/buiten/\"       #389 foto's\n",
    "niets = r\"classificatie/niets/\"         #1399 foto's\n",
    "#Eerst wordt per map een panda dataframe aangemaakt\n",
    "nietsDf = aanmakenDf(niets, 0)\n",
    "aanwezigDf = aanmakenDf(aanwezig, 1)\n",
    "buitenDf = aanmakenDf(buiten, 2)\n",
    "#vervolgens worden ze alle drie samengevoegd tot 1 groot dataframe\n",
    "volledigDataframe = pd.concat([nietsDf, aanwezigDf, buitenDf], ignore_index=True)"
   ]
  },
  {
   "cell_type": "code",
   "execution_count": 4,
   "metadata": {},
   "outputs": [],
   "source": [
    "#Opsplitsen in gestratificieerde testset en trainingsset\n",
    "np.random.seed(42)\n",
    "split = StratifiedShuffleSplit(n_splits=1, test_size=0.2, random_state=42)\n",
    "for train_index, test_index in split.split(volledigDataframe, volledigDataframe['label']):\n",
    "    strat_train_set = volledigDataframe.loc[train_index]\n",
    "    strat_test_set = volledigDataframe.loc[test_index] \n",
    "#X = data, y = label. Dit voor trainingsset en testset  \n",
    "X_train, X_test, y_train, y_test, naam_train, naam_test = strat_train_set['data'], strat_test_set['data'], strat_train_set['label'], strat_test_set['label'], strat_train_set['naam'], strat_test_set['naam']"
   ]
  },
  {
   "cell_type": "code",
   "execution_count": 5,
   "metadata": {},
   "outputs": [],
   "source": [
    "#Omzetten naar np.array\n",
    "X_train_array = np.array(X_train.tolist())\n",
    "X_test_array = np.array(X_test.tolist())\n",
    "y_train_array = np.array(y_train)\n",
    "y_test_array = np.array(y_test)\n",
    "naam_train_array= np.array(naam_train)\n",
    "naam_test_array= np.array(naam_test)"
   ]
  },
  {
   "cell_type": "code",
   "execution_count": 6,
   "metadata": {},
   "outputs": [
    {
     "data": {
      "text/plain": [
       "RandomForestClassifier(random_state=42)"
      ]
     },
     "execution_count": 6,
     "metadata": {},
     "output_type": "execute_result"
    }
   ],
   "source": [
    "#RandomforestClassifier\n",
    "from sklearn.ensemble import RandomForestClassifier\n",
    "forest_clf = RandomForestClassifier(random_state=42)\n",
    "forest_clf.fit(X_train_array, y_train_array)"
   ]
  },
  {
   "cell_type": "code",
   "execution_count": 7,
   "metadata": {},
   "outputs": [
    {
     "data": {
      "text/plain": [
       "SVC(random_state=42)"
      ]
     },
     "execution_count": 7,
     "metadata": {},
     "output_type": "execute_result"
    }
   ],
   "source": [
    "#support vector machine model\n",
    "from sklearn.svm import SVC\n",
    "svc = SVC(random_state=42)\n",
    "svc.fit(X_train_array, y_train_array)"
   ]
  },
  {
   "cell_type": "code",
   "execution_count": 8,
   "metadata": {},
   "outputs": [
    {
     "data": {
      "text/plain": [
       "OneVsOneClassifier(estimator=SGDClassifier(random_state=42))"
      ]
     },
     "execution_count": 8,
     "metadata": {},
     "output_type": "execute_result"
    }
   ],
   "source": [
    "#One vs one classifier\n",
    "from sklearn.multiclass import OneVsOneClassifier\n",
    "ovo_clf = OneVsOneClassifier(SGDClassifier(random_state=42))\n",
    "ovo_clf.fit(X_train_array, y_train_array)"
   ]
  },
  {
   "cell_type": "code",
   "execution_count": 9,
   "metadata": {},
   "outputs": [
    {
     "data": {
      "text/plain": [
       "VotingClassifier(estimators=[('forest',\n",
       "                              RandomForestClassifier(random_state=42)),\n",
       "                             ('ovo',\n",
       "                              OneVsOneClassifier(estimator=SGDClassifier(random_state=42))),\n",
       "                             ('svc', SVC(random_state=42))])"
      ]
     },
     "execution_count": 9,
     "metadata": {},
     "output_type": "execute_result"
    }
   ],
   "source": [
    "#Votingclassifier toevoegen? \n",
    "from sklearn.ensemble import VotingClassifier\n",
    "voting_clf = VotingClassifier(estimators=[('forest', forest_clf), ('ovo', ovo_clf), ('svc', svc)],voting='hard')\n",
    "voting_clf.fit(X_train_array, y_train_array)"
   ]
  },
  {
   "cell_type": "code",
   "execution_count": 10,
   "metadata": {},
   "outputs": [
    {
     "name": "stdout",
     "output_type": "stream",
     "text": [
      "SVC 0.9204545454545454\n",
      "OneVsOneClassifier 0.9318181818181818\n",
      "RandomForestClassifier 0.9412878787878788\n",
      "VotingClassifier 0.9337121212121212\n"
     ]
    }
   ],
   "source": [
    "#Accuraatheid van random forest, oneVSone, supportVectorMachine en voting\n",
    "from sklearn.metrics import accuracy_score\n",
    "for clf in (svc, ovo_clf, forest_clf, voting_clf):\n",
    " clf.fit(X_train_array, y_train_array)\n",
    " y_pred = clf.predict(X_test_array)\n",
    " print(clf.__class__.__name__, accuracy_score(y_test_array, y_pred))"
   ]
  },
  {
   "cell_type": "code",
   "execution_count": 11,
   "metadata": {},
   "outputs": [
    {
     "name": "stdout",
     "output_type": "stream",
     "text": [
      "Fitting 3 folds for each of 98 candidates, totalling 294 fits\n",
      "[CV] END ...............................kmeans__n_clusters=2; total time=  58.4s\n",
      "[CV] END ...............................kmeans__n_clusters=2; total time=  56.3s\n",
      "[CV] END ...............................kmeans__n_clusters=2; total time=  59.0s\n",
      "[CV] END ...............................kmeans__n_clusters=3; total time= 1.8min\n",
      "[CV] END ...............................kmeans__n_clusters=3; total time= 1.8min\n",
      "[CV] END ...............................kmeans__n_clusters=3; total time= 1.7min\n",
      "[CV] END ...............................kmeans__n_clusters=4; total time= 1.9min\n",
      "[CV] END ...............................kmeans__n_clusters=4; total time= 1.8min\n",
      "[CV] END ...............................kmeans__n_clusters=4; total time= 1.9min\n",
      "[CV] END ...............................kmeans__n_clusters=5; total time= 2.0min\n",
      "[CV] END ...............................kmeans__n_clusters=5; total time= 2.0min\n",
      "[CV] END ...............................kmeans__n_clusters=5; total time= 2.3min\n",
      "[CV] END ...............................kmeans__n_clusters=6; total time= 2.0min\n",
      "[CV] END ...............................kmeans__n_clusters=6; total time= 2.8min\n",
      "[CV] END ...............................kmeans__n_clusters=6; total time= 2.3min\n",
      "[CV] END ...............................kmeans__n_clusters=7; total time= 2.7min\n",
      "[CV] END ...............................kmeans__n_clusters=7; total time= 2.9min\n",
      "[CV] END ...............................kmeans__n_clusters=7; total time= 2.4min\n",
      "[CV] END ...............................kmeans__n_clusters=8; total time= 3.0min\n",
      "[CV] END ...............................kmeans__n_clusters=8; total time= 2.7min\n",
      "[CV] END ...............................kmeans__n_clusters=8; total time= 2.7min\n",
      "[CV] END ...............................kmeans__n_clusters=9; total time= 3.6min\n",
      "[CV] END ...............................kmeans__n_clusters=9; total time= 3.6min\n",
      "[CV] END ...............................kmeans__n_clusters=9; total time= 3.0min\n",
      "[CV] END ..............................kmeans__n_clusters=10; total time= 3.7min\n",
      "[CV] END ..............................kmeans__n_clusters=10; total time= 3.1min\n",
      "[CV] END ..............................kmeans__n_clusters=10; total time= 3.2min\n",
      "[CV] END ..............................kmeans__n_clusters=11; total time= 3.3min\n",
      "[CV] END ..............................kmeans__n_clusters=11; total time= 3.0min\n",
      "[CV] END ..............................kmeans__n_clusters=11; total time= 2.7min\n",
      "[CV] END ..............................kmeans__n_clusters=12; total time= 2.8min\n",
      "[CV] END ..............................kmeans__n_clusters=12; total time= 3.3min\n",
      "[CV] END ..............................kmeans__n_clusters=12; total time= 3.0min\n",
      "[CV] END ..............................kmeans__n_clusters=13; total time= 3.1min\n",
      "[CV] END ..............................kmeans__n_clusters=13; total time= 3.6min\n",
      "[CV] END ..............................kmeans__n_clusters=13; total time= 3.6min\n",
      "[CV] END ..............................kmeans__n_clusters=14; total time= 3.6min\n",
      "[CV] END ..............................kmeans__n_clusters=14; total time= 3.7min\n",
      "[CV] END ..............................kmeans__n_clusters=14; total time= 3.5min\n",
      "[CV] END ..............................kmeans__n_clusters=15; total time= 3.4min\n",
      "[CV] END ..............................kmeans__n_clusters=15; total time= 3.3min\n",
      "[CV] END ..............................kmeans__n_clusters=15; total time= 3.8min\n",
      "[CV] END ..............................kmeans__n_clusters=16; total time= 3.6min\n",
      "[CV] END ..............................kmeans__n_clusters=16; total time= 3.4min\n",
      "[CV] END ..............................kmeans__n_clusters=16; total time= 3.1min\n",
      "[CV] END ..............................kmeans__n_clusters=17; total time= 3.9min\n",
      "[CV] END ..............................kmeans__n_clusters=17; total time= 4.0min\n",
      "[CV] END ..............................kmeans__n_clusters=17; total time= 3.5min\n",
      "[CV] END ..............................kmeans__n_clusters=18; total time= 3.7min\n",
      "[CV] END ..............................kmeans__n_clusters=18; total time= 3.9min\n",
      "[CV] END ..............................kmeans__n_clusters=18; total time= 4.0min\n",
      "[CV] END ..............................kmeans__n_clusters=19; total time= 3.9min\n",
      "[CV] END ..............................kmeans__n_clusters=19; total time= 3.8min\n",
      "[CV] END ..............................kmeans__n_clusters=19; total time= 4.0min\n",
      "[CV] END ..............................kmeans__n_clusters=20; total time= 4.0min\n",
      "[CV] END ..............................kmeans__n_clusters=20; total time= 3.6min\n",
      "[CV] END ..............................kmeans__n_clusters=20; total time= 4.1min\n",
      "[CV] END ..............................kmeans__n_clusters=21; total time= 4.2min\n",
      "[CV] END ..............................kmeans__n_clusters=21; total time= 3.9min\n",
      "[CV] END ..............................kmeans__n_clusters=21; total time= 4.5min\n",
      "[CV] END ..............................kmeans__n_clusters=22; total time= 4.2min\n",
      "[CV] END ..............................kmeans__n_clusters=22; total time= 3.9min\n",
      "[CV] END ..............................kmeans__n_clusters=22; total time= 3.8min\n",
      "[CV] END ..............................kmeans__n_clusters=23; total time= 4.1min\n",
      "[CV] END ..............................kmeans__n_clusters=23; total time= 4.1min\n",
      "[CV] END ..............................kmeans__n_clusters=23; total time= 4.1min\n",
      "[CV] END ..............................kmeans__n_clusters=24; total time= 4.2min\n",
      "[CV] END ..............................kmeans__n_clusters=24; total time= 4.0min\n",
      "[CV] END ..............................kmeans__n_clusters=24; total time= 3.7min\n",
      "[CV] END ..............................kmeans__n_clusters=25; total time= 4.3min\n",
      "[CV] END ..............................kmeans__n_clusters=25; total time= 4.5min\n",
      "[CV] END ..............................kmeans__n_clusters=25; total time= 4.1min\n",
      "[CV] END ..............................kmeans__n_clusters=26; total time= 4.5min\n",
      "[CV] END ..............................kmeans__n_clusters=26; total time= 4.2min\n",
      "[CV] END ..............................kmeans__n_clusters=26; total time= 4.0min\n",
      "[CV] END ..............................kmeans__n_clusters=27; total time= 4.1min\n",
      "[CV] END ..............................kmeans__n_clusters=27; total time= 4.3min\n",
      "[CV] END ..............................kmeans__n_clusters=27; total time= 4.6min\n",
      "[CV] END ..............................kmeans__n_clusters=28; total time= 4.5min\n",
      "[CV] END ..............................kmeans__n_clusters=28; total time= 4.7min\n",
      "[CV] END ..............................kmeans__n_clusters=28; total time= 4.4min\n",
      "[CV] END ..............................kmeans__n_clusters=29; total time= 4.5min\n",
      "[CV] END ..............................kmeans__n_clusters=29; total time= 4.5min\n",
      "[CV] END ..............................kmeans__n_clusters=29; total time= 4.5min\n",
      "[CV] END ..............................kmeans__n_clusters=30; total time= 4.4min\n",
      "[CV] END ..............................kmeans__n_clusters=30; total time= 5.0min\n",
      "[CV] END ..............................kmeans__n_clusters=30; total time= 4.7min\n",
      "[CV] END ..............................kmeans__n_clusters=31; total time= 4.7min\n",
      "[CV] END ..............................kmeans__n_clusters=31; total time= 4.2min\n",
      "[CV] END ..............................kmeans__n_clusters=31; total time= 4.3min\n",
      "[CV] END ..............................kmeans__n_clusters=32; total time= 4.6min\n",
      "[CV] END ..............................kmeans__n_clusters=32; total time= 4.9min\n",
      "[CV] END ..............................kmeans__n_clusters=32; total time= 4.8min\n",
      "[CV] END ..............................kmeans__n_clusters=33; total time= 5.1min\n",
      "[CV] END ..............................kmeans__n_clusters=33; total time= 4.5min\n",
      "[CV] END ..............................kmeans__n_clusters=33; total time= 4.8min\n",
      "[CV] END ..............................kmeans__n_clusters=34; total time= 5.0min\n",
      "[CV] END ..............................kmeans__n_clusters=34; total time= 4.7min\n",
      "[CV] END ..............................kmeans__n_clusters=34; total time= 4.7min\n",
      "[CV] END ..............................kmeans__n_clusters=35; total time= 5.4min\n",
      "[CV] END ..............................kmeans__n_clusters=35; total time= 4.9min\n",
      "[CV] END ..............................kmeans__n_clusters=35; total time= 4.7min\n",
      "[CV] END ..............................kmeans__n_clusters=36; total time= 5.1min\n",
      "[CV] END ..............................kmeans__n_clusters=36; total time= 4.8min\n",
      "[CV] END ..............................kmeans__n_clusters=36; total time= 4.9min\n",
      "[CV] END ..............................kmeans__n_clusters=37; total time= 5.1min\n",
      "[CV] END ..............................kmeans__n_clusters=37; total time= 5.2min\n",
      "[CV] END ..............................kmeans__n_clusters=37; total time= 4.9min\n",
      "[CV] END ..............................kmeans__n_clusters=38; total time= 4.9min\n",
      "[CV] END ..............................kmeans__n_clusters=38; total time= 5.0min\n",
      "[CV] END ..............................kmeans__n_clusters=38; total time= 5.4min\n",
      "[CV] END ..............................kmeans__n_clusters=39; total time= 5.0min\n",
      "[CV] END ..............................kmeans__n_clusters=39; total time= 5.3min\n",
      "[CV] END ..............................kmeans__n_clusters=39; total time= 5.4min\n",
      "[CV] END ..............................kmeans__n_clusters=40; total time= 5.7min\n",
      "[CV] END ..............................kmeans__n_clusters=40; total time= 5.2min\n",
      "[CV] END ..............................kmeans__n_clusters=40; total time= 5.0min\n",
      "[CV] END ..............................kmeans__n_clusters=41; total time= 5.5min\n",
      "[CV] END ..............................kmeans__n_clusters=41; total time= 5.5min\n",
      "[CV] END ..............................kmeans__n_clusters=41; total time= 5.7min\n",
      "[CV] END ..............................kmeans__n_clusters=42; total time= 5.4min\n",
      "[CV] END ..............................kmeans__n_clusters=42; total time= 5.6min\n",
      "[CV] END ..............................kmeans__n_clusters=42; total time= 5.7min\n",
      "[CV] END ..............................kmeans__n_clusters=43; total time= 5.8min\n",
      "[CV] END ..............................kmeans__n_clusters=43; total time= 5.7min\n",
      "[CV] END ..............................kmeans__n_clusters=43; total time= 5.4min\n",
      "[CV] END ..............................kmeans__n_clusters=44; total time= 5.5min\n",
      "[CV] END ..............................kmeans__n_clusters=44; total time= 5.7min\n",
      "[CV] END ..............................kmeans__n_clusters=44; total time= 5.5min\n",
      "[CV] END ..............................kmeans__n_clusters=45; total time= 5.3min\n",
      "[CV] END ..............................kmeans__n_clusters=45; total time= 6.0min\n",
      "[CV] END ..............................kmeans__n_clusters=45; total time= 6.2min\n",
      "[CV] END ..............................kmeans__n_clusters=46; total time= 5.6min\n",
      "[CV] END ..............................kmeans__n_clusters=46; total time= 5.8min\n",
      "[CV] END ..............................kmeans__n_clusters=46; total time= 5.9min\n",
      "[CV] END ..............................kmeans__n_clusters=47; total time= 5.4min\n",
      "[CV] END ..............................kmeans__n_clusters=47; total time= 5.8min\n",
      "[CV] END ..............................kmeans__n_clusters=47; total time= 5.6min\n",
      "[CV] END ..............................kmeans__n_clusters=48; total time= 6.1min\n",
      "[CV] END ..............................kmeans__n_clusters=48; total time= 6.1min\n",
      "[CV] END ..............................kmeans__n_clusters=48; total time= 5.9min\n",
      "[CV] END ..............................kmeans__n_clusters=49; total time= 5.9min\n",
      "[CV] END ..............................kmeans__n_clusters=49; total time= 5.7min\n",
      "[CV] END ..............................kmeans__n_clusters=49; total time= 5.6min\n",
      "[CV] END ..............................kmeans__n_clusters=50; total time= 6.0min\n",
      "[CV] END ..............................kmeans__n_clusters=50; total time= 6.0min\n",
      "[CV] END ..............................kmeans__n_clusters=50; total time= 5.9min\n",
      "[CV] END ..............................kmeans__n_clusters=51; total time= 5.7min\n",
      "[CV] END ..............................kmeans__n_clusters=51; total time= 6.6min\n",
      "[CV] END ..............................kmeans__n_clusters=51; total time= 6.1min\n",
      "[CV] END ..............................kmeans__n_clusters=52; total time= 6.2min\n",
      "[CV] END ..............................kmeans__n_clusters=52; total time= 6.4min\n",
      "[CV] END ..............................kmeans__n_clusters=52; total time= 5.8min\n",
      "[CV] END ..............................kmeans__n_clusters=53; total time= 5.8min\n",
      "[CV] END ..............................kmeans__n_clusters=53; total time= 6.1min\n",
      "[CV] END ..............................kmeans__n_clusters=53; total time= 6.1min\n",
      "[CV] END ..............................kmeans__n_clusters=54; total time= 6.1min\n",
      "[CV] END ..............................kmeans__n_clusters=54; total time= 6.2min\n",
      "[CV] END ..............................kmeans__n_clusters=54; total time= 6.2min\n",
      "[CV] END ..............................kmeans__n_clusters=55; total time= 6.5min\n",
      "[CV] END ..............................kmeans__n_clusters=55; total time= 6.4min\n",
      "[CV] END ..............................kmeans__n_clusters=55; total time= 6.5min\n",
      "[CV] END ..............................kmeans__n_clusters=56; total time= 6.3min\n",
      "[CV] END ..............................kmeans__n_clusters=56; total time= 6.4min\n",
      "[CV] END ..............................kmeans__n_clusters=56; total time= 6.2min\n",
      "[CV] END ..............................kmeans__n_clusters=57; total time= 6.2min\n",
      "[CV] END ..............................kmeans__n_clusters=57; total time= 6.1min\n",
      "[CV] END ..............................kmeans__n_clusters=57; total time= 6.3min\n",
      "[CV] END ..............................kmeans__n_clusters=58; total time= 6.5min\n",
      "[CV] END ..............................kmeans__n_clusters=58; total time= 6.5min\n",
      "[CV] END ..............................kmeans__n_clusters=58; total time= 6.1min\n",
      "[CV] END ..............................kmeans__n_clusters=59; total time= 6.7min\n",
      "[CV] END ..............................kmeans__n_clusters=59; total time= 6.8min\n",
      "[CV] END ..............................kmeans__n_clusters=59; total time= 6.3min\n",
      "[CV] END ..............................kmeans__n_clusters=60; total time= 6.6min\n",
      "[CV] END ..............................kmeans__n_clusters=60; total time= 6.3min\n",
      "[CV] END ..............................kmeans__n_clusters=60; total time= 6.5min\n",
      "[CV] END ..............................kmeans__n_clusters=61; total time= 6.7min\n",
      "[CV] END ..............................kmeans__n_clusters=61; total time= 6.4min\n",
      "[CV] END ..............................kmeans__n_clusters=61; total time= 6.4min\n",
      "[CV] END ..............................kmeans__n_clusters=62; total time= 6.7min\n",
      "[CV] END ..............................kmeans__n_clusters=62; total time= 6.6min\n",
      "[CV] END ..............................kmeans__n_clusters=62; total time= 6.6min\n",
      "[CV] END ..............................kmeans__n_clusters=63; total time= 6.7min\n",
      "[CV] END ..............................kmeans__n_clusters=63; total time= 6.6min\n",
      "[CV] END ..............................kmeans__n_clusters=63; total time= 6.5min\n",
      "[CV] END ..............................kmeans__n_clusters=64; total time= 6.9min\n",
      "[CV] END ..............................kmeans__n_clusters=64; total time= 7.0min\n",
      "[CV] END ..............................kmeans__n_clusters=64; total time= 6.8min\n",
      "[CV] END ..............................kmeans__n_clusters=65; total time= 7.1min\n",
      "[CV] END ..............................kmeans__n_clusters=65; total time= 6.8min\n",
      "[CV] END ..............................kmeans__n_clusters=65; total time= 7.1min\n",
      "[CV] END ..............................kmeans__n_clusters=66; total time= 7.0min\n",
      "[CV] END ..............................kmeans__n_clusters=66; total time= 6.9min\n",
      "[CV] END ..............................kmeans__n_clusters=66; total time= 6.9min\n",
      "[CV] END ..............................kmeans__n_clusters=67; total time= 7.1min\n",
      "[CV] END ..............................kmeans__n_clusters=67; total time= 7.2min\n",
      "[CV] END ..............................kmeans__n_clusters=67; total time= 7.1min\n",
      "[CV] END ..............................kmeans__n_clusters=68; total time= 7.3min\n",
      "[CV] END ..............................kmeans__n_clusters=68; total time= 6.9min\n",
      "[CV] END ..............................kmeans__n_clusters=68; total time= 7.1min\n",
      "[CV] END ..............................kmeans__n_clusters=69; total time= 6.9min\n",
      "[CV] END ..............................kmeans__n_clusters=69; total time= 7.3min\n",
      "[CV] END ..............................kmeans__n_clusters=69; total time= 7.0min\n",
      "[CV] END ..............................kmeans__n_clusters=70; total time= 7.2min\n",
      "[CV] END ..............................kmeans__n_clusters=70; total time= 7.0min\n",
      "[CV] END ..............................kmeans__n_clusters=70; total time= 7.0min\n",
      "[CV] END ..............................kmeans__n_clusters=71; total time= 7.3min\n",
      "[CV] END ..............................kmeans__n_clusters=71; total time= 7.1min\n",
      "[CV] END ..............................kmeans__n_clusters=71; total time= 6.8min\n",
      "[CV] END ..............................kmeans__n_clusters=72; total time= 7.6min\n",
      "[CV] END ..............................kmeans__n_clusters=72; total time= 7.3min\n",
      "[CV] END ..............................kmeans__n_clusters=72; total time= 7.2min\n",
      "[CV] END ..............................kmeans__n_clusters=73; total time= 7.3min\n",
      "[CV] END ..............................kmeans__n_clusters=73; total time= 7.3min\n",
      "[CV] END ..............................kmeans__n_clusters=73; total time= 7.2min\n",
      "[CV] END ..............................kmeans__n_clusters=74; total time= 7.4min\n",
      "[CV] END ..............................kmeans__n_clusters=74; total time= 7.5min\n",
      "[CV] END ..............................kmeans__n_clusters=74; total time= 7.3min\n",
      "[CV] END ..............................kmeans__n_clusters=75; total time= 7.4min\n",
      "[CV] END ..............................kmeans__n_clusters=75; total time= 7.3min\n",
      "[CV] END ..............................kmeans__n_clusters=75; total time= 7.6min\n",
      "[CV] END ..............................kmeans__n_clusters=76; total time= 7.6min\n",
      "[CV] END ..............................kmeans__n_clusters=76; total time= 7.5min\n",
      "[CV] END ..............................kmeans__n_clusters=76; total time= 7.2min\n",
      "[CV] END ..............................kmeans__n_clusters=77; total time= 7.7min\n",
      "[CV] END ..............................kmeans__n_clusters=77; total time= 7.4min\n",
      "[CV] END ..............................kmeans__n_clusters=77; total time= 7.4min\n",
      "[CV] END ..............................kmeans__n_clusters=78; total time= 7.4min\n",
      "[CV] END ..............................kmeans__n_clusters=78; total time= 7.5min\n",
      "[CV] END ..............................kmeans__n_clusters=78; total time= 7.8min\n",
      "[CV] END ..............................kmeans__n_clusters=79; total time= 7.3min\n",
      "[CV] END ..............................kmeans__n_clusters=79; total time= 7.8min\n",
      "[CV] END ..............................kmeans__n_clusters=79; total time= 7.5min\n",
      "[CV] END ..............................kmeans__n_clusters=80; total time= 7.6min\n",
      "[CV] END ..............................kmeans__n_clusters=80; total time= 7.6min\n",
      "[CV] END ..............................kmeans__n_clusters=80; total time= 7.8min\n",
      "[CV] END ..............................kmeans__n_clusters=81; total time= 7.5min\n",
      "[CV] END ..............................kmeans__n_clusters=81; total time= 7.7min\n",
      "[CV] END ..............................kmeans__n_clusters=81; total time= 7.5min\n",
      "[CV] END ..............................kmeans__n_clusters=82; total time= 7.8min\n",
      "[CV] END ..............................kmeans__n_clusters=82; total time= 7.8min\n",
      "[CV] END ..............................kmeans__n_clusters=82; total time= 7.6min\n",
      "[CV] END ..............................kmeans__n_clusters=83; total time= 8.1min\n",
      "[CV] END ..............................kmeans__n_clusters=83; total time= 7.8min\n",
      "[CV] END ..............................kmeans__n_clusters=83; total time= 7.5min\n",
      "[CV] END ..............................kmeans__n_clusters=84; total time= 8.0min\n",
      "[CV] END ..............................kmeans__n_clusters=84; total time= 8.1min\n",
      "[CV] END ..............................kmeans__n_clusters=84; total time= 7.9min\n",
      "[CV] END ..............................kmeans__n_clusters=85; total time= 7.9min\n",
      "[CV] END ..............................kmeans__n_clusters=85; total time= 7.7min\n",
      "[CV] END ..............................kmeans__n_clusters=85; total time= 7.7min\n",
      "[CV] END ..............................kmeans__n_clusters=86; total time= 8.1min\n",
      "[CV] END ..............................kmeans__n_clusters=86; total time= 8.1min\n",
      "[CV] END ..............................kmeans__n_clusters=86; total time= 7.9min\n",
      "[CV] END ..............................kmeans__n_clusters=87; total time= 8.2min\n",
      "[CV] END ..............................kmeans__n_clusters=87; total time= 8.4min\n",
      "[CV] END ..............................kmeans__n_clusters=87; total time= 7.8min\n",
      "[CV] END ..............................kmeans__n_clusters=88; total time= 8.4min\n",
      "[CV] END ..............................kmeans__n_clusters=88; total time= 8.1min\n",
      "[CV] END ..............................kmeans__n_clusters=88; total time= 7.9min\n",
      "[CV] END ..............................kmeans__n_clusters=89; total time= 8.4min\n",
      "[CV] END ..............................kmeans__n_clusters=89; total time= 8.2min\n",
      "[CV] END ..............................kmeans__n_clusters=89; total time= 7.9min\n",
      "[CV] END ..............................kmeans__n_clusters=90; total time= 8.4min\n",
      "[CV] END ..............................kmeans__n_clusters=90; total time= 8.4min\n",
      "[CV] END ..............................kmeans__n_clusters=90; total time= 7.9min\n",
      "[CV] END ..............................kmeans__n_clusters=91; total time= 8.3min\n",
      "[CV] END ..............................kmeans__n_clusters=91; total time= 8.2min\n",
      "[CV] END ..............................kmeans__n_clusters=91; total time= 8.2min\n",
      "[CV] END ..............................kmeans__n_clusters=92; total time= 8.3min\n",
      "[CV] END ..............................kmeans__n_clusters=92; total time= 8.3min\n",
      "[CV] END ..............................kmeans__n_clusters=92; total time= 8.6min\n",
      "[CV] END ..............................kmeans__n_clusters=93; total time= 8.3min\n",
      "[CV] END ..............................kmeans__n_clusters=93; total time= 8.6min\n",
      "[CV] END ..............................kmeans__n_clusters=93; total time= 8.2min\n",
      "[CV] END ..............................kmeans__n_clusters=94; total time= 8.6min\n",
      "[CV] END ..............................kmeans__n_clusters=94; total time= 8.3min\n",
      "[CV] END ..............................kmeans__n_clusters=94; total time= 8.6min\n",
      "[CV] END ..............................kmeans__n_clusters=95; total time= 8.6min\n",
      "[CV] END ..............................kmeans__n_clusters=95; total time= 8.3min\n",
      "[CV] END ..............................kmeans__n_clusters=95; total time= 8.2min\n",
      "[CV] END ..............................kmeans__n_clusters=96; total time= 8.6min\n",
      "[CV] END ..............................kmeans__n_clusters=96; total time= 8.8min\n",
      "[CV] END ..............................kmeans__n_clusters=96; total time= 8.5min\n",
      "[CV] END ..............................kmeans__n_clusters=97; total time= 8.8min\n",
      "[CV] END ..............................kmeans__n_clusters=97; total time= 8.3min\n",
      "[CV] END ..............................kmeans__n_clusters=97; total time= 8.7min\n",
      "[CV] END ..............................kmeans__n_clusters=98; total time= 8.8min\n",
      "[CV] END ..............................kmeans__n_clusters=98; total time= 8.4min\n",
      "[CV] END ..............................kmeans__n_clusters=98; total time= 8.6min\n",
      "[CV] END ..............................kmeans__n_clusters=99; total time= 8.8min\n",
      "[CV] END ..............................kmeans__n_clusters=99; total time= 8.9min\n",
      "[CV] END ..............................kmeans__n_clusters=99; total time= 8.5min\n"
     ]
    },
    {
     "data": {
      "text/plain": [
       "{'kmeans__n_clusters': 74}"
      ]
     },
     "execution_count": 11,
     "metadata": {},
     "output_type": "execute_result"
    }
   ],
   "source": [
    "#Clustering als preproces toegevoegd dmv pipeline\n",
    "from sklearn.cluster import KMeans\n",
    "from sklearn.pipeline import Pipeline\n",
    "from sklearn.model_selection import GridSearchCV\n",
    "\n",
    "pipeline = Pipeline([\n",
    "(\"kmeans\", KMeans()),\n",
    "(\"forest\", RandomForestClassifier()),\n",
    "])\n",
    "\n",
    "param_grid = dict(kmeans__n_clusters=range(2, 100))\n",
    "grid_clf = GridSearchCV(pipeline, param_grid, cv=3, verbose=2)\n",
    "grid_clf.fit(X_train_array, y_train_array)\n",
    "\n",
    "grid_clf.best_params_"
   ]
  },
  {
   "cell_type": "code",
   "execution_count": 12,
   "metadata": {},
   "outputs": [
    {
     "data": {
      "text/plain": [
       "0.9166666666666666"
      ]
     },
     "execution_count": 12,
     "metadata": {},
     "output_type": "execute_result"
    }
   ],
   "source": [
    "#Accuraatheid van randomForest voorafgegaan door clustering\n",
    "grid_clf.score(X_test_array, y_test_array)"
   ]
  },
  {
   "cell_type": "code",
   "execution_count": 13,
   "metadata": {},
   "outputs": [
    {
     "name": "stderr",
     "output_type": "stream",
     "text": [
      "C:\\Users\\berto\\AppData\\Local\\Programs\\Python\\Python310\\lib\\site-packages\\sklearn\\linear_model\\_logistic.py:814: ConvergenceWarning: lbfgs failed to converge (status=1):\n",
      "STOP: TOTAL NO. of ITERATIONS REACHED LIMIT.\n",
      "\n",
      "Increase the number of iterations (max_iter) or scale the data as shown in:\n",
      "    https://scikit-learn.org/stable/modules/preprocessing.html\n",
      "Please also refer to the documentation for alternative solver options:\n",
      "    https://scikit-learn.org/stable/modules/linear_model.html#logistic-regression\n",
      "  n_iter_i = _check_optimize_result(\n"
     ]
    },
    {
     "data": {
      "text/plain": [
       "LogisticRegression(random_state=42)"
      ]
     },
     "execution_count": 13,
     "metadata": {},
     "output_type": "execute_result"
    }
   ],
   "source": [
    "from sklearn.linear_model import LogisticRegression\n",
    "log_reg = LogisticRegression(random_state=42)\n",
    "log_reg.fit(X_train_array, y_train_array)"
   ]
  },
  {
   "cell_type": "code",
   "execution_count": 14,
   "metadata": {},
   "outputs": [
    {
     "data": {
      "text/plain": [
       "0.9375"
      ]
     },
     "execution_count": 14,
     "metadata": {},
     "output_type": "execute_result"
    }
   ],
   "source": [
    "log_reg.score(X_test_array, y_test_array)"
   ]
  },
  {
   "cell_type": "code",
   "execution_count": 15,
   "metadata": {},
   "outputs": [
    {
     "name": "stderr",
     "output_type": "stream",
     "text": [
      "C:\\Users\\berto\\AppData\\Local\\Programs\\Python\\Python310\\lib\\site-packages\\sklearn\\linear_model\\_logistic.py:814: ConvergenceWarning: lbfgs failed to converge (status=1):\n",
      "STOP: TOTAL NO. of ITERATIONS REACHED LIMIT.\n",
      "\n",
      "Increase the number of iterations (max_iter) or scale the data as shown in:\n",
      "    https://scikit-learn.org/stable/modules/preprocessing.html\n",
      "Please also refer to the documentation for alternative solver options:\n",
      "    https://scikit-learn.org/stable/modules/linear_model.html#logistic-regression\n",
      "  n_iter_i = _check_optimize_result(\n"
     ]
    },
    {
     "data": {
      "text/plain": [
       "Pipeline(steps=[('kmeans', KMeans(n_clusters=74)),\n",
       "                ('log_reg', LogisticRegression())])"
      ]
     },
     "execution_count": 15,
     "metadata": {},
     "output_type": "execute_result"
    }
   ],
   "source": [
    "pipeline2 = Pipeline([\n",
    "(\"kmeans\", KMeans(n_clusters=74)),\n",
    "(\"log_reg\", LogisticRegression()),\n",
    "])\n",
    "pipeline2.fit(X_train_array, y_train_array)"
   ]
  },
  {
   "cell_type": "code",
   "execution_count": 16,
   "metadata": {},
   "outputs": [
    {
     "data": {
      "text/plain": [
       "0.8712121212121212"
      ]
     },
     "execution_count": 16,
     "metadata": {},
     "output_type": "execute_result"
    }
   ],
   "source": [
    "pipeline2.score(X_test_array, y_test_array)"
   ]
  }
 ],
 "metadata": {
  "interpreter": {
   "hash": "55d263330900eac1e1f11d320664b4f1ad54abd5c72a47286ee5c6726dcf5d30"
  },
  "kernelspec": {
   "display_name": "Python 3.10.2 64-bit",
   "language": "python",
   "name": "python3"
  },
  "language_info": {
   "codemirror_mode": {
    "name": "ipython",
    "version": 3
   },
   "file_extension": ".py",
   "mimetype": "text/x-python",
   "name": "python",
   "nbconvert_exporter": "python",
   "pygments_lexer": "ipython3",
   "version": "3.10.2"
  },
  "orig_nbformat": 4
 },
 "nbformat": 4,
 "nbformat_minor": 2
}
