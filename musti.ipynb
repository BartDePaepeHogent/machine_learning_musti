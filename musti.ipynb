{
 "cells": [
  {
   "cell_type": "code",
   "execution_count": 1,
   "metadata": {
    "collapsed": true
   },
   "outputs": [],
   "source": [
    "from PIL import Image, ImageOps\n",
    "import numpy as np\n",
    "import os\n",
    "import pandas as pd\n",
    "import matplotlib.pyplot as plt\n",
    "import matplotlib as mpl\n",
    "from sklearn.model_selection import StratifiedShuffleSplit\n",
    "from sklearn.linear_model import SGDClassifier"
   ]
  },
  {
   "cell_type": "code",
   "execution_count": 2,
   "metadata": {},
   "outputs": [],
   "source": [
    "def aanmakenDf (groep, label):\n",
    "#Drie lege lijsten worden aangemaakt die dan uiteindelijk samen dataframe zullen vormen \n",
    "    Pixels= []\n",
    "    Label =[]\n",
    "  \n",
    "#fotos inlezen en omzetten per groep. \n",
    "    for foto in os.listdir(groep):\n",
    "        beeld = Image.open(groep+foto)\n",
    "#fotos omzetten in grijswaarde of 2 dimensionele array ipv 3x2\n",
    "        beeld_grijs = ImageOps.grayscale(beeld)\n",
    "\n",
    "#fotos resizen voor leesbaarheid tijdens testen, en eventueel voor latere experimenten\n",
    "        beeld_formaat = beeld_grijs.resize((beeld_grijs.width // 1, beeld_grijs.height //1 ))       \n",
    "        \n",
    "#fotos omzetten naar numpy array\n",
    "        data_2dim = np.asarray(beeld_formaat, dtype=np.uint8)\n",
    "        data = data_2dim.flatten()\n",
    "\n",
    "#3 lijsten opvullen, eerste met data van foto, tweede met label en derde met naam van foto. \n",
    "#De lengte van elke lijst = aantal fotos in bijhorende map\n",
    "        Pixels.append(data)\n",
    "        Label.append(label)\n",
    "\n",
    "#Per groep worden de drie aangemaakte lijsten omgezet naar panda df\n",
    "\n",
    "    dict = {'data': Pixels, 'label': Label}\n",
    "    df = pd.DataFrame(dict)\n",
    "    return df"
   ]
  },
  {
   "cell_type": "code",
   "execution_count": 3,
   "metadata": {},
   "outputs": [],
   "source": [
    "#Dataframe aanmaken\n",
    "aanwezig = r\"classificatie/aanwezig/\"  #852 foto's \n",
    "buiten = r\"classificatie/buiten/\"       #389 foto's\n",
    "niets = r\"classificatie/niets/\"         #1399 foto's\n",
    "#Eerst wordt per map een panda dataframe aangemaakt\n",
    "nietsDf = aanmakenDf(niets, 0)\n",
    "aanwezigDf = aanmakenDf(aanwezig, 1)\n",
    "buitenDf = aanmakenDf(buiten, 2)\n",
    "#vervolgens worden ze alle drie samengevoegd tot 1 groot dataframe\n",
    "volledigDataframe = pd.concat([nietsDf, aanwezigDf, buitenDf], ignore_index=True)"
   ]
  },
  {
   "cell_type": "code",
   "execution_count": 4,
   "metadata": {},
   "outputs": [],
   "source": [
    "#Opsplitsen in gestratificieerde testset en trainingsset\n",
    "split = StratifiedShuffleSplit(n_splits=1, test_size=0.2, random_state=42)\n",
    "for train_index, test_index in split.split(volledigDataframe, volledigDataframe['label']):\n",
    "    strat_train_set = volledigDataframe.loc[train_index]\n",
    "    strat_test_set = volledigDataframe.loc[test_index] \n",
    "#X = data, y = label. Dit voor trainingsset en testset\n",
    "\n",
    "X_train, X_test, y_train, y_test = strat_train_set['data'], strat_test_set['data'], strat_train_set['label'], strat_test_set['label']"
   ]
  },
  {
   "cell_type": "code",
   "execution_count": 5,
   "outputs": [
    {
     "name": "stdout",
     "output_type": "stream",
     "text": [
      "<class 'pandas.core.series.Series'>\n",
      "Int64Index: 2112 entries, 1439 to 2510\n",
      "Series name: data\n",
      "Non-Null Count  Dtype \n",
      "--------------  ----- \n",
      "2112 non-null   object\n",
      "dtypes: object(1)\n",
      "memory usage: 33.0+ KB\n"
     ]
    }
   ],
   "source": [
    "X_train.info()"
   ],
   "metadata": {
    "collapsed": false,
    "pycharm": {
     "name": "#%%\n"
    }
   }
  },
  {
   "cell_type": "code",
   "execution_count": 6,
   "outputs": [
    {
     "name": "stdout",
     "output_type": "stream",
     "text": [
      "<class 'pandas.core.series.Series'>\n",
      "Int64Index: 528 entries, 883 to 592\n",
      "Series name: data\n",
      "Non-Null Count  Dtype \n",
      "--------------  ----- \n",
      "528 non-null    object\n",
      "dtypes: object(1)\n",
      "memory usage: 8.2+ KB\n"
     ]
    }
   ],
   "source": [
    "X_test.info()"
   ],
   "metadata": {
    "collapsed": false,
    "pycharm": {
     "name": "#%%\n"
    }
   }
  },
  {
   "cell_type": "code",
   "execution_count": 7,
   "metadata": {},
   "outputs": [],
   "source": [
    "#Omzetten naar np.array\n",
    "X_train_array = np.array(X_train.tolist())\n",
    "X_test_array = np.array(X_test.tolist())\n",
    "y_train_array = np.array(y_train)\n",
    "y_test_array = np.array(y_test)\n"
   ]
  },
  {
   "cell_type": "markdown",
   "source": [
    "improve the result by scaling"
   ],
   "metadata": {
    "collapsed": false,
    "pycharm": {
     "name": "#%% md\n"
    }
   }
  },
  {
   "cell_type": "code",
   "execution_count": 8,
   "outputs": [],
   "source": [
    "from sklearn.preprocessing import StandardScaler\n",
    "scaler = StandardScaler()\n",
    "X_train_scaled = scaler.fit_transform(X_train_array.astype(np.float64))\n",
    "X_test_scaled = scaler.fit_transform(X_test_array.astype(np.float64))\n",
    "#cross_val_score(forest_clf, X_train_scaled, y_train_array, cv=3, scoring=\"accuracy\")"
   ],
   "metadata": {
    "collapsed": false,
    "pycharm": {
     "name": "#%%\n"
    }
   }
  },
  {
   "cell_type": "code",
   "execution_count": 9,
   "outputs": [
    {
     "data": {
      "text/plain": "RandomForestClassifier(max_leaf_nodes=50, n_estimators=300, random_state=42)"
     },
     "execution_count": 9,
     "metadata": {},
     "output_type": "execute_result"
    }
   ],
   "source": [
    "#RandomforestClassifier\n",
    "from sklearn.ensemble import RandomForestClassifier\n",
    "forest_clf = RandomForestClassifier(random_state=42, min_samples_split = 2,n_estimators= 300, max_leaf_nodes = 50)\n",
    "#forest_clf.fit(X_train_array, y_train_array)\n",
    "forest_clf.fit(X_train_scaled, y_train_array)"
   ],
   "metadata": {
    "collapsed": false,
    "pycharm": {
     "name": "#%%\n"
    }
   }
  },
  {
   "cell_type": "markdown",
   "source": [
    "0: 0.94034091\n",
    "1: 0.94886364\n",
    "2: 0.93465909"
   ],
   "metadata": {
    "collapsed": false,
    "pycharm": {
     "name": "#%% md\n"
    }
   }
  },
  {
   "cell_type": "code",
   "execution_count": 10,
   "outputs": [
    {
     "data": {
      "text/plain": "['models/test.pkl']"
     },
     "execution_count": 10,
     "metadata": {},
     "output_type": "execute_result"
    }
   ],
   "source": [
    "import joblib\n",
    "joblib.dump(forest_clf, \"models/test.pkl\")\n",
    "#...\n",
    "#my_model_loaded = joblib.load(\"models/my_model.pkl\")"
   ],
   "metadata": {
    "collapsed": false,
    "pycharm": {
     "name": "#%%\n"
    }
   }
  },
  {
   "cell_type": "markdown",
   "source": [
    "TEST"
   ],
   "metadata": {
    "collapsed": false,
    "pycharm": {
     "name": "#%% md\n"
    }
   }
  },
  {
   "cell_type": "code",
   "execution_count": 11,
   "outputs": [
    {
     "data": {
      "text/plain": "118947840"
     },
     "execution_count": 11,
     "metadata": {},
     "output_type": "execute_result"
    }
   ],
   "source": [
    "X_test_scaled.size"
   ],
   "metadata": {
    "collapsed": false,
    "pycharm": {
     "name": "#%%\n"
    }
   }
  },
  {
   "cell_type": "code",
   "execution_count": 12,
   "outputs": [
    {
     "name": "stdout",
     "output_type": "stream",
     "text": [
      "RandomForestClassifier 0.9488636363636364\n"
     ]
    }
   ],
   "source": [
    "from sklearn.metrics import accuracy_score\n",
    "y_pred = forest_clf.predict(X_test_scaled)\n",
    "print(forest_clf.__class__.__name__, accuracy_score(y_test_array, y_pred))"
   ],
   "metadata": {
    "collapsed": false,
    "pycharm": {
     "name": "#%%\n"
    }
   }
  },
  {
   "cell_type": "code",
   "execution_count": 13,
   "outputs": [
    {
     "data": {
      "text/plain": "array([[-0.02734288, -0.5941908 ,  0.50236406, ..., -0.14418296,\n        -0.64238405, -0.94503622],\n       [-0.1746596 , -1.03758455, -0.07080137, ...,  0.07663967,\n         0.10588303,  0.13447413],\n       [ 1.29850766,  1.74946184,  1.71237996, ...,  0.13184533,\n        -0.21480286, -0.50341835],\n       ...,\n       [-0.54295142, -0.21413902, -0.89870699, ...,  0.73910757,\n         0.58691187,  0.42888604],\n       [ 0.48826567,  1.1160422 ,  1.20289958, ..., -1.68994138,\n        -1.87167996, -1.92640926],\n       [ 0.4146073 ,  0.35593865,  0.50236406, ..., -0.42021125,\n        -0.10790756,  0.08540548]])"
     },
     "execution_count": 13,
     "metadata": {},
     "output_type": "execute_result"
    }
   ],
   "source": [
    "# reshape X_test_scaled\n",
    "X_test_scaled.reshape(528,225280)"
   ],
   "metadata": {
    "collapsed": false,
    "pycharm": {
     "name": "#%%\n"
    }
   }
  },
  {
   "cell_type": "code",
   "execution_count": 14,
   "outputs": [],
   "source": [
    "X_test_shape = X_test_scaled.reshape(528,225280)"
   ],
   "metadata": {
    "collapsed": false,
    "pycharm": {
     "name": "#%%\n"
    }
   }
  },
  {
   "cell_type": "code",
   "execution_count": 15,
   "outputs": [
    {
     "data": {
      "text/plain": "118947840"
     },
     "execution_count": 15,
     "metadata": {},
     "output_type": "execute_result"
    }
   ],
   "source": [
    "X_test_shape.size"
   ],
   "metadata": {
    "collapsed": false,
    "pycharm": {
     "name": "#%%\n"
    }
   }
  },
  {
   "cell_type": "code",
   "execution_count": 16,
   "outputs": [
    {
     "data": {
      "text/plain": "array([-0.02734288, -0.5941908 ,  0.50236406, ..., -0.14418296,\n       -0.64238405, -0.94503622])"
     },
     "execution_count": 16,
     "metadata": {},
     "output_type": "execute_result"
    }
   ],
   "source": [
    "digit = X_test_scaled[0]\n",
    "digit"
   ],
   "metadata": {
    "collapsed": false,
    "pycharm": {
     "name": "#%%\n"
    }
   }
  },
  {
   "cell_type": "code",
   "execution_count": 17,
   "outputs": [],
   "source": [
    "kat = digit.reshape(352,640)"
   ],
   "metadata": {
    "collapsed": false,
    "pycharm": {
     "name": "#%%\n"
    }
   }
  },
  {
   "cell_type": "code",
   "execution_count": 18,
   "outputs": [
    {
     "data": {
      "text/plain": "array([0.98503769, 0.99496095, 0.81350925, 0.68663507, 0.95071342,\n       0.90220268, 0.98402752, 0.94150565, 0.49877314, 0.6293093 ,\n       0.99444623, 0.96435463, 0.56967245, 0.5078889 , 0.77603063,\n       0.97542097, 0.97567413, 0.95704953, 0.9697862 , 0.95710196,\n       0.92083072, 0.93397163, 0.97075053, 0.64933424, 0.75903053,\n       0.98931725, 0.99272529, 0.91303712, 0.84761524, 0.55476742,\n       0.96986516, 0.90604985, 0.93126101, 0.95317498, 0.99441038,\n       0.75163948, 0.92849409, 0.83342238, 0.97743671, 0.53033291,\n       0.91621619, 0.9419248 , 0.9889111 , 0.96423056, 0.94257169,\n       0.89587824, 0.95435958, 0.98101374, 0.93924197, 0.92554745,\n       0.9265565 , 0.97080035, 0.99496095, 0.76573545, 0.90468027,\n       0.72632964, 0.80824396, 0.99168924, 0.98276163, 0.99496095,\n       0.84640379, 0.98902708, 0.77388651, 0.95994735, 0.94602418,\n       0.98973419, 0.93265191, 0.79880989, 0.89372753, 0.81761301,\n       0.62920388, 0.99267115, 0.99200239, 0.99293033, 0.82320233,\n       0.93944884, 0.88139567, 0.98223112, 0.62041632, 0.60867425,\n       0.49624183, 0.98231171, 0.60893765, 0.91760828, 0.6772816 ,\n       0.99496095, 0.9219832 , 0.72170588, 0.6467102 , 0.83768954,\n       0.92725927, 0.9879165 , 0.81835362, 0.99496095, 0.94835702,\n       0.98797954, 0.96864717, 0.99496095, 0.82728941, 0.64584062,\n       0.47869524, 0.96249916, 0.79212259, 0.99496095, 0.99322148,\n       0.85202841, 0.93678675, 0.98252184, 0.98598107, 0.99496095,\n       0.93321608, 0.99496095, 0.99475874, 0.76222068, 0.84322108,\n       0.8818829 , 0.97776597, 0.92470655, 0.97665438, 0.95104817,\n       0.67650911, 0.99499581, 0.95246482, 0.89309253, 0.98890932,\n       0.98351005, 0.98974487, 0.99492808, 0.96744607, 0.99286232,\n       0.94950174, 0.95885638, 0.98464588, 0.97996482, 0.99340514,\n       0.66283342, 0.85147071, 0.99423089, 0.98903041, 0.77323279,\n       0.93277674, 0.9692571 , 0.96714083, 0.9832526 , 0.80287021,\n       0.99496095, 0.90223819, 0.98256872, 0.47887981, 0.78573689,\n       0.95138202, 0.97650768, 0.96029078, 0.52262548, 0.99496095,\n       0.98890586, 0.98885196, 0.99470155, 0.94700938, 0.98613241,\n       0.99496095, 0.98090024, 0.82886298, 0.63047948, 0.79200278,\n       0.98176331, 0.94802549, 0.99496095, 0.40330506, 0.94447939,\n       0.66512911, 0.92791668, 0.99428165, 0.6594506 , 0.82717397,\n       0.63574358, 0.83040086, 0.90336791, 0.92517256, 0.99496095,\n       0.99328254, 0.8493034 , 0.99448347, 0.98129645, 0.95999622,\n       0.99496095, 0.60463085, 0.99496095, 0.63001795, 0.97721374,\n       0.98646105, 0.96495054, 0.81990071, 0.99361941, 0.94764062,\n       0.9333617 , 0.98646932, 0.51858051, 0.94938984, 0.73666998,\n       0.97631147, 0.92093217, 0.98554095, 0.81912814, 0.97488716,\n       0.99492819, 0.77419518, 0.96803145, 0.77925613, 0.71264324,\n       0.90893297, 0.97915257, 0.58675924, 0.96853621, 0.97823498,\n       0.95707442, 0.89105416, 0.99496095, 0.9949676 , 0.99486561,\n       0.99168627, 0.50757321, 0.78708103, 0.913785  , 0.98571561,\n       0.6966211 , 0.9835138 , 0.88457481, 0.96401873, 0.76176587,\n       0.99496095, 0.9205483 , 0.78836235, 0.99496095, 0.89082554,\n       0.67382995, 0.99443074, 0.76168345, 0.9608878 , 0.96622616,\n       0.93201305, 0.96363843, 0.91823785, 0.94982555, 0.67761232,\n       0.73905228, 0.92979268, 0.92794134, 0.89723746, 0.85649874,\n       0.97714882, 0.88093877, 0.99496095, 0.99496095, 0.71860075,\n       0.41346147, 0.95244782, 0.8390756 , 0.82252411, 0.91583325,\n       0.85835474, 0.98990667, 0.94504536, 0.99489727, 0.98575112,\n       0.80211641, 0.90928225, 0.96691905, 0.78811856, 0.78515537,\n       0.90384785, 0.98964258, 0.97067103, 0.81391665, 0.84419966,\n       0.97855668, 0.90291693, 0.99195401, 0.91631948, 0.9543763 ,\n       0.60036784, 0.9889111 , 0.98817407, 0.75347136, 0.98895909,\n       0.50949575, 0.88135899, 0.9891253 , 0.65473989, 0.98554971,\n       0.94805448, 0.98885196, 0.99261798, 0.38609995, 0.94569082,\n       0.96898694, 0.86556064, 0.98800678, 0.98639314, 0.98949161,\n       0.59422943, 0.84011203, 0.95371079, 0.99486243, 0.92965399,\n       0.99496095, 0.99496095, 0.88500059, 0.54683261, 0.99499581,\n       0.75188279, 0.98790726, 0.9485262 , 0.92728898, 0.95929176,\n       0.59640395, 0.96942972, 0.77127259, 0.90355757, 0.98227064,\n       0.70656997, 0.99496095, 0.95140372, 0.99436249, 0.92647802,\n       0.81138525, 0.92802536, 0.89634675, 0.97681711, 0.95117288,\n       0.97218662, 0.866905  , 0.96191294, 0.82374554, 0.99279028,\n       0.91432983, 0.99207384, 0.99496252, 0.75114799, 0.98883007,\n       0.98984153, 0.90296397, 0.95080737, 0.98580235, 0.66117236,\n       0.99478593, 0.84278524, 0.99345124, 0.93638731, 0.88865548,\n       0.91198076, 0.98592314, 0.79968696, 0.90045937, 0.90635899,\n       0.88119926, 0.88614869, 0.9710412 , 0.98279667, 0.58122193,\n       0.95291864, 0.96077529, 0.99128417, 0.96134027, 0.97820215,\n       0.99493463, 0.97485493, 0.96613616, 0.98551739, 0.99109079,\n       0.95633775, 0.9889111 , 0.99496095, 0.5134186 , 0.87993838,\n       0.99435922, 0.98972259, 0.98619365, 0.67499824, 0.91957266,\n       0.79380978, 0.98661465, 0.89720711, 0.83593481, 0.66706232,\n       0.95312534, 0.80017399, 0.92730218, 0.96931728, 0.99496095,\n       0.92589865, 0.61735023, 0.96511573, 0.90865507, 0.94987559,\n       0.97528919, 0.99032493, 0.94279623, 0.94742832, 0.80749189,\n       0.97687515, 0.99496095, 0.99496095, 0.98822316, 0.98967403,\n       0.84838396, 0.98972259, 0.67954346, 0.98588327, 0.58293716,\n       0.95627167, 0.82370523, 0.89422373, 0.89601015, 0.94478594,\n       0.94331085, 0.6188815 , 0.78892611, 0.98559758, 0.80935088,\n       0.98967802, 0.98173181, 0.98069802, 0.99132023, 0.98691827,\n       0.7385342 , 0.99496095, 0.83809776, 0.98753218, 0.94329803,\n       0.92745453, 0.63916023, 0.89374178, 0.91182019, 0.99428568,\n       0.92265041, 0.8912214 , 0.98972259, 0.47638292, 0.99496095,\n       0.75417101, 0.69100895, 0.99496095, 0.94398267, 0.99496095,\n       0.98885196, 0.82554189, 0.98949672, 0.49803535, 0.94442692,\n       0.98089124, 0.98565119, 0.87220925, 0.86446418, 0.99223499,\n       0.9879869 , 0.67065589, 0.94835762, 0.9889111 , 0.98559618,\n       0.99442443, 0.95915257, 0.75262635, 0.94099948, 0.99198121,\n       0.77709792, 0.98022184, 0.77080278, 0.60138395, 0.99496095,\n       0.69771556, 0.63261694, 0.76927636, 0.99475591, 0.93268121,\n       0.98555375, 0.58721862, 0.93804295, 0.98611634, 0.96561698,\n       0.98651396, 0.96583011, 0.91167708, 0.98646105, 0.98410085,\n       0.98560946, 0.99496095, 0.89965419, 0.96555127, 0.80921079,\n       0.61734195, 0.908456  , 0.66924404, 0.89593651, 0.69271489,\n       0.70024097, 0.95863462, 0.9947506 , 0.96733387, 0.99418238,\n       0.89445338, 0.87671767, 0.7516452 , 0.66006628, 0.9927542 ,\n       0.96419175, 0.81676263, 0.87790486, 0.98900038, 0.99493808,\n       0.94657002, 0.87741317, 0.78273786, 0.5839158 , 0.96842895,\n       0.74640743, 0.98569968, 0.81197448, 0.51422104, 0.82452479,\n       0.92316619, 0.85815098, 0.88558036, 0.99496095, 0.98460215,\n       0.96897664, 0.96739296, 0.97168706])"
     },
     "execution_count": 18,
     "metadata": {},
     "output_type": "execute_result"
    }
   ],
   "source": [
    "proba_np_array = np.zeros(528)\n",
    "pred_np_array = np.zeros(528)\n",
    "for i in range (528):\n",
    "    test_musti = X_test_scaled[i]\n",
    "    test_musti_2D = test_musti.reshape(1,-1)\n",
    "    proba = forest_clf.predict_proba(test_musti_2D)\n",
    "    max_proba = np.amax(proba)\n",
    "    proba_np_array[i] = max_proba\n",
    "    pred = forest_clf.predict(test_musti_2D)\n",
    "    pred_np_array[i] = pred[0]\n",
    "proba_np_array"
   ],
   "metadata": {
    "collapsed": false,
    "pycharm": {
     "name": "#%%\n"
    }
   }
  },
  {
   "cell_type": "code",
   "execution_count": 19,
   "outputs": [
    {
     "data": {
      "text/plain": "0.8881500563367409"
     },
     "execution_count": 19,
     "metadata": {},
     "output_type": "execute_result"
    }
   ],
   "source": [
    "proba_np_array.mean()"
   ],
   "metadata": {
    "collapsed": false,
    "pycharm": {
     "name": "#%%\n"
    }
   }
  },
  {
   "cell_type": "code",
   "execution_count": 20,
   "outputs": [
    {
     "data": {
      "text/plain": "0.9475344737606678"
     },
     "execution_count": 20,
     "metadata": {},
     "output_type": "execute_result"
    }
   ],
   "source": [
    "proba_np_array.sort()\n",
    "(proba_np_array[528 // 2] + proba_np_array[(528 // 2) + 1]) / 2"
   ],
   "metadata": {
    "collapsed": false,
    "pycharm": {
     "name": "#%%\n"
    }
   }
  },
  {
   "cell_type": "code",
   "execution_count": 21,
   "outputs": [
    {
     "data": {
      "text/plain": "<AxesSubplot:>"
     },
     "execution_count": 21,
     "metadata": {},
     "output_type": "execute_result"
    },
    {
     "data": {
      "text/plain": "<Figure size 432x288 with 1 Axes>",
      "image/png": "[encoded data removed]"
     },
     "metadata": {
      "needs_background": "light"
     },
     "output_type": "display_data"
    }
   ],
   "source": [
    "import seaborn as sns\n",
    "sns.boxplot(data = proba_np_array)"
   ],
   "metadata": {
    "collapsed": false,
    "pycharm": {
     "name": "#%%\n"
    }
   }
  },
  {
   "cell_type": "code",
   "execution_count": 22,
   "outputs": [
    {
     "data": {
      "text/plain": "<Figure size 432x288 with 1 Axes>",
      "image/png": "[encoded data removed]"
     },
     "metadata": {
      "needs_background": "light"
     },
     "output_type": "display_data"
    }
   ],
   "source": [
    "sns.kdeplot(data = proba_np_array)\n",
    "plt.axvline(0.89, color='r')\n",
    "plt.show()"
   ],
   "metadata": {
    "collapsed": false,
    "pycharm": {
     "name": "#%%\n"
    }
   }
  },
  {
   "cell_type": "code",
   "execution_count": 23,
   "outputs": [
    {
     "data": {
      "text/plain": "0.8272605539732174"
     },
     "execution_count": 23,
     "metadata": {},
     "output_type": "execute_result"
    }
   ],
   "source": [
    "np.quantile(proba_np_array, 0.25)"
   ],
   "metadata": {
    "collapsed": false,
    "pycharm": {
     "name": "#%%\n"
    }
   }
  },
  {
   "cell_type": "code",
   "execution_count": 32,
   "outputs": [
    {
     "data": {
      "text/plain": "   real  predict real_text predic_text\n0     0        0     niets       niets\n1     0        0     niets       niets\n2     2        2    buiten      buiten\n3     1        1    binnen      binnen\n4     0        0     niets       niets",
      "text/html": "<div>\n<style scoped>\n    .dataframe tbody tr th:only-of-type {\n        vertical-align: middle;\n    }\n\n    .dataframe tbody tr th {\n        vertical-align: top;\n    }\n\n    .dataframe thead th {\n        text-align: right;\n    }\n</style>\n<table border=\"1\" class=\"dataframe\">\n  <thead>\n    <tr style=\"text-align: right;\">\n      <th></th>\n      <th>real</th>\n      <th>predict</th>\n      <th>real_text</th>\n      <th>predic_text</th>\n    </tr>\n  </thead>\n  <tbody>\n    <tr>\n      <th>0</th>\n      <td>0</td>\n      <td>0</td>\n      <td>niets</td>\n      <td>niets</td>\n    </tr>\n    <tr>\n      <th>1</th>\n      <td>0</td>\n      <td>0</td>\n      <td>niets</td>\n      <td>niets</td>\n    </tr>\n    <tr>\n      <th>2</th>\n      <td>2</td>\n      <td>2</td>\n      <td>buiten</td>\n      <td>buiten</td>\n    </tr>\n    <tr>\n      <th>3</th>\n      <td>1</td>\n      <td>1</td>\n      <td>binnen</td>\n      <td>binnen</td>\n    </tr>\n    <tr>\n      <th>4</th>\n      <td>0</td>\n      <td>0</td>\n      <td>niets</td>\n      <td>niets</td>\n    </tr>\n  </tbody>\n</table>\n</div>"
     },
     "execution_count": 32,
     "metadata": {},
     "output_type": "execute_result"
    }
   ],
   "source": [
    "test_frame = pd.DataFrame({'real': y_test_array, 'predict': pred_np_array})\n",
    "test_frame = test_frame.astype(int)\n",
    "test_frame[\"real_text\"] = np.where(test_frame['real']== 0, \"niets\", np.where(test_frame['real']== 1, \"binnen\", \"buiten\"))\n",
    "test_frame[\"predic_text\"] = np.where(test_frame['real']== 0, \"niets\", np.where(test_frame['real']== 1, \"binnen\", \"buiten\"))\n",
    "test_frame.head()"
   ],
   "metadata": {
    "collapsed": false,
    "pycharm": {
     "name": "#%%\n"
    }
   }
  },
  {
   "cell_type": "code",
   "execution_count": 36,
   "outputs": [
    {
     "data": {
      "text/plain": "<Figure size 432x288 with 3 Axes>",
      "image/png": "[encoded data removed]"
     },
     "metadata": {
      "needs_background": "light"
     },
     "output_type": "display_data"
    }
   ],
   "source": [
    "from matplotlib import cm\n",
    "from statsmodels.graphics.mosaicplot import mosaic  # Mosaic diagram\n",
    "\n",
    "# By default, mosaic() will color all columns the same. Here,\n",
    "# we're going to give a separate color to each response (1-5).\n",
    "# The response is kept in the label of each cell, a tuple of\n",
    "# the two values that are represented in that cell (e.g.\n",
    "# ('Female', '2')). We will be using the \"plasma\" color map\n",
    "# in this example.\n",
    "plasma_colors = cm.get_cmap('plasma')\n",
    "# Create a function that maps the cell key to the color we\n",
    "# want to give it. We use the colormap function created above\n",
    "# and give it a number between 0 and 1. We convert the second\n",
    "# part of the key (values '1' to '5') to a number and divide\n",
    "# by 5.\n",
    "props = lambda key: {'color': plasma_colors(int(key[1])/3)}\n",
    "\n",
    "mos_gender_survey = mosaic(\n",
    "       data=test_frame, index=['real', 'predict'],\n",
    "       gap=0.05, properties=props)"
   ],
   "metadata": {
    "collapsed": false,
    "pycharm": {
     "name": "#%%\n"
    }
   }
  },
  {
   "cell_type": "code",
   "execution_count": 37,
   "outputs": [
    {
     "data": {
      "text/plain": "<AxesSubplot:xlabel='real_text', ylabel='predic_text'>"
     },
     "execution_count": 37,
     "metadata": {},
     "output_type": "execute_result"
    },
    {
     "data": {
      "text/plain": "<Figure size 432x288 with 1 Axes>",
      "image/png": "[encoded data removed]"
     },
     "metadata": {
      "needs_background": "light"
     },
     "output_type": "display_data"
    }
   ],
   "source": [
    "sns.stripplot(x=\"real_text\", y=\"predic_text\", data = test_frame)"
   ],
   "metadata": {
    "collapsed": false,
    "pycharm": {
     "name": "#%%\n"
    }
   }
  },
  {
   "cell_type": "code",
   "execution_count": null,
   "outputs": [],
   "source": [],
   "metadata": {
    "collapsed": false,
    "pycharm": {
     "name": "#%%\n"
    }
   }
  }
 ],
 "metadata": {
  "kernelspec": {
   "display_name": "Python 3",
   "language": "python",
   "name": "python3"
  },
  "language_info": {
   "codemirror_mode": {
    "name": "ipython",
    "version": 3
   },
   "file_extension": ".py",
   "mimetype": "text/x-python",
   "name": "python",
   "nbconvert_exporter": "python",
   "pygments_lexer": "ipython3",
   "version": "3.10.2"
  }
 },
 "nbformat": 4,
 "nbformat_minor": 0
}