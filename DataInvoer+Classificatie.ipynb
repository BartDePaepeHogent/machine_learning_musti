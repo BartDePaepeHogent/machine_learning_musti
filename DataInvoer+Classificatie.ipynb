{
 "cells": [
  {
   "cell_type": "code",
   "execution_count": 4,
   "metadata": {},
   "outputs": [],
   "source": [
    "from PIL import Image, ImageOps\n",
    "import numpy as np\n",
    "import os\n",
    "import pandas as pd\n",
    "import matplotlib.pyplot as plt\n",
    "import matplotlib as mpl\n",
    "from sklearn.model_selection import StratifiedShuffleSplit\n",
    "from sklearn.linear_model import SGDClassifier"
   ]
  },
  {
   "cell_type": "code",
   "execution_count": 5,
   "metadata": {},
   "outputs": [],
   "source": [
    "def aanmakenDf (groep, label):\n",
    "#Drie lege lijsten worden aangemaakt die dan uiteindelijk samen dataframe zullen vormen \n",
    "    Pixels= []\n",
    "    Label =[]\n",
    "    Naam=[]\n",
    "  \n",
    "#fotos inlezen en omzetten per groep. \n",
    "    for foto in os.listdir(groep):\n",
    "        beeld = Image.open(groep+foto)\n",
    "#fotos omzetten in grijswaarde of 2 dimensionele array ipv 3x2\n",
    "        beeld_grijs = ImageOps.grayscale(beeld)\n",
    "\n",
    "#fotos resizen voor leesbaarheid tijdens testen, en eventueel voor latere experimenten\n",
    "        beeld_formaat = beeld_grijs.resize((beeld_grijs.width // 8, beeld_grijs.height //8 ))       \n",
    "        \n",
    "#fotos omzetten naar numpy array\n",
    "        data_2dim = np.asarray(beeld_formaat, dtype=np.uint8)\n",
    "        data = data_2dim.flatten()\n",
    "\n",
    "#3 lijsten opvullen, eerste met data van foto, tweede met label en derde met naam van foto. \n",
    "#De lengte van elke lijst = aantal fotos in bijhorende map\n",
    "        Pixels.append(data)\n",
    "        Label.append(label)\n",
    "        Naam.append(foto)\n",
    "\n",
    "#Per groep worden de drie aangemaakte lijsten omgezet naar panda df\n",
    "    dict = {'data': Pixels, 'label': Label, 'naam': Naam}\n",
    "    df = pd.DataFrame(dict)\n",
    "    return df"
   ]
  },
  {
   "cell_type": "code",
   "execution_count": 6,
   "metadata": {},
   "outputs": [],
   "source": [
    "aanwezig = r\"classificatie/aanwezig/\"  #852 foto's \n",
    "buiten = r\"classificatie/buiten/\"       #389 foto's\n",
    "niets = r\"classificatie/niets/\"         #1399 foto's\n",
    "#Eerst wordt per map een panda dataframe aangemaakt\n",
    "nietsDf = aanmakenDf(niets, 0)\n",
    "aanwezigDf = aanmakenDf(aanwezig, 1)\n",
    "buitenDf = aanmakenDf(buiten, 2)\n",
    "#vervolgens worden ze alle drie samengevoegd tot 1 groot dataframe\n",
    "volledigDataframe = pd.concat([nietsDf, aanwezigDf, buitenDf], ignore_index=True)"
   ]
  },
  {
   "cell_type": "code",
   "execution_count": 7,
   "metadata": {},
   "outputs": [],
   "source": [
    "#Opsplitsen in gestratificieerde testset en trainingsset\n",
    "np.random.seed(42)\n",
    "split = StratifiedShuffleSplit(n_splits=1, test_size=0.2, random_state=42)\n",
    "for train_index, test_index in split.split(volledigDataframe, volledigDataframe['label']):\n",
    "    strat_train_set = volledigDataframe.loc[train_index]\n",
    "    strat_test_set = volledigDataframe.loc[test_index] \n",
    "#X = data, y = label. Dit voor trainingsset en testset  \n",
    "X_train, X_test, y_train, y_test, naam_train, naam_test = strat_train_set['data'], strat_test_set['data'], strat_train_set['label'], strat_test_set['label'], strat_train_set['naam'], strat_test_set['naam']"
   ]
  },
  {
   "cell_type": "code",
   "execution_count": 8,
   "metadata": {},
   "outputs": [
    {
     "data": {
      "text/plain": [
       "(2112, 3520)"
      ]
     },
     "execution_count": 8,
     "metadata": {},
     "output_type": "execute_result"
    }
   ],
   "source": [
    "#Omzetten naar np.array\n",
    "X_train_array = np.array(X_train.tolist())\n",
    "X_test_array = np.array(X_test.tolist())\n",
    "y_train_array = np.array(y_train)\n",
    "y_test_array = np.array(y_test)\n",
    "naam_train_array= np.array(naam_train)\n",
    "naam_test_array= np.array(naam_test)\n",
    "\n",
    "X_train_array.shape"
   ]
  },
  {
   "cell_type": "code",
   "execution_count": 9,
   "metadata": {},
   "outputs": [
    {
     "data": {
      "text/plain": [
       "array([False])"
      ]
     },
     "execution_count": 9,
     "metadata": {},
     "output_type": "execute_result"
    }
   ],
   "source": [
    "#Binaire classificatie\n",
    "y_train_niets = (y_train_array == 0)\n",
    "y_test_niets = (y_test_array == 0)\n",
    "\n",
    "sgd_clf = SGDClassifier(max_iter=1000, tol=1e-3, random_state=42)\n",
    "sgd_clf.fit(X_train_array, y_train_niets)\n",
    "\n",
    "(sgd_clf.predict([X_test_array[0]]))  \n",
    "(sgd_clf.predict([X_test_array[2]]))  "
   ]
  },
  {
   "cell_type": "code",
   "execution_count": 10,
   "metadata": {},
   "outputs": [
    {
     "data": {
      "text/plain": [
       "2"
      ]
     },
     "execution_count": 10,
     "metadata": {},
     "output_type": "execute_result"
    }
   ],
   "source": [
    "y_test_array[2]"
   ]
  },
  {
   "cell_type": "code",
   "execution_count": 11,
   "metadata": {},
   "outputs": [
    {
     "data": {
      "text/plain": [
       "array([0.87357955, 0.75852273, 0.87926136])"
      ]
     },
     "execution_count": 11,
     "metadata": {},
     "output_type": "execute_result"
    }
   ],
   "source": [
    "#Cross Validatie: trainingsset opdelen in 3 delen\n",
    "from sklearn.model_selection import cross_val_score\n",
    "cross_val_score(sgd_clf, X_train_array, y_train_niets, cv=3, scoring=\"accuracy\")"
   ]
  },
  {
   "cell_type": "markdown",
   "metadata": {},
   "source": [
    "Cross validatie verwacht op basis van gokken is ongeveer 50´%\n",
    "\n",
    "Bij aantal pixels gedeeld door 32, tussen 70 en 75% van gevallen correct\n",
    "\n",
    "Bij aantal pixels gedeeld door 4, tussen 83 en 91% correct\n",
    "\n",
    "Bij totale aantal pixels: tussen 83 en 92% correct (leertijd 35 sec, crossvalidatie tijd 92 sec)"
   ]
  },
  {
   "cell_type": "code",
   "execution_count": 12,
   "metadata": {},
   "outputs": [
    {
     "data": {
      "text/plain": [
       "array([[888, 105],\n",
       "       [239, 880]], dtype=int64)"
      ]
     },
     "execution_count": 12,
     "metadata": {},
     "output_type": "execute_result"
    }
   ],
   "source": [
    "#Cross validatie adhv confusion matrix\n",
    "from sklearn.model_selection import cross_val_predict\n",
    "y_train_pred = cross_val_predict(sgd_clf, X_train_array, y_train_niets, cv=3)\n",
    "from sklearn.metrics import confusion_matrix\n",
    "confusion_matrix(y_train_niets, y_train_pred)"
   ]
  },
  {
   "cell_type": "markdown",
   "metadata": {},
   "source": [
    "Confusion matrix bij totaal aantal pixels:\n",
    "\n",
    "[[854, 139],\n",
    "\n",
    " [150, 969]]\n",
    "\n",
    "Confusion matrix bij aantal pixels/4:\n",
    "\n",
    "[[ 758,  235],\n",
    "\n",
    "[  52, 1067]]\n",
    "\n",
    "Hier: (zou eigenlijk beter omgekeerd...)\n",
    "\n",
    "positief als er geen kat wordt herkend en er ook effectief geen is (true)\n",
    "\n",
    "negatief als er wel een kat wordt herkend en er ook effectief een is (false)\n",
    "\n",
    "vals negatief: kat is er niet, maar algoritme zegt van wel\n",
    "\n",
    "vals positief: kat is er wel, maar algoritme denkt van niet\n",
    "\n",
    "Hier dus vooral te vermijden: vals positief!!! Precision wordt verhoogd door de vals positieve te verlagen\n"
   ]
  },
  {
   "cell_type": "code",
   "execution_count": 13,
   "metadata": {},
   "outputs": [
    {
     "data": {
      "text/plain": [
       "0.8934010152284264"
      ]
     },
     "execution_count": 13,
     "metadata": {},
     "output_type": "execute_result"
    }
   ],
   "source": [
    "#Precision en Recall\n",
    "from sklearn.metrics import precision_score, recall_score\n",
    "precision_score(y_train_niets, y_train_pred) "
   ]
  },
  {
   "cell_type": "code",
   "execution_count": 14,
   "metadata": {},
   "outputs": [
    {
     "data": {
      "text/plain": [
       "0.7864164432529044"
      ]
     },
     "execution_count": 14,
     "metadata": {},
     "output_type": "execute_result"
    }
   ],
   "source": [
    "recall_score(y_train_niets, y_train_pred)"
   ]
  },
  {
   "cell_type": "code",
   "execution_count": 15,
   "metadata": {},
   "outputs": [
    {
     "data": {
      "text/plain": [
       "0.8365019011406843"
      ]
     },
     "execution_count": 15,
     "metadata": {},
     "output_type": "execute_result"
    }
   ],
   "source": [
    "from sklearn.metrics import f1_score\n",
    "f1_score(y_train_niets, y_train_pred)"
   ]
  },
  {
   "cell_type": "markdown",
   "metadata": {},
   "source": [
    "Treshold kan worden opgeschoven naar meer precision:  Precision Recall curve"
   ]
  },
  {
   "cell_type": "code",
   "execution_count": 16,
   "metadata": {},
   "outputs": [],
   "source": [
    "from sklearn.metrics import precision_recall_curve\n",
    "y_scores = cross_val_predict(sgd_clf, X_train_array, y_train_niets, cv=3,\n",
    "method=\"decision_function\")\n",
    "precisions, recalls, thresholds = precision_recall_curve(y_train_niets, y_scores)"
   ]
  },
  {
   "cell_type": "code",
   "execution_count": 17,
   "metadata": {},
   "outputs": [
    {
     "data": {
      "image/png": "[encoded data removed]",
      "text/plain": [
       "<Figure size 432x288 with 1 Axes>"
      ]
     },
     "metadata": {
      "needs_background": "light"
     },
     "output_type": "display_data"
    }
   ],
   "source": [
    "def plot_precision_recall_vs_threshold(precisions, recalls, thresholds):\n",
    "  plt.plot(thresholds, precisions[:-1], \"b--\", label=\"Precision\")\n",
    "  plt.plot(thresholds, recalls[:-1], \"g-\", label=\"Recall\")\n",
    "  \n",
    "plot_precision_recall_vs_threshold(precisions, recalls, thresholds)\n",
    "plt.show()"
   ]
  },
  {
   "cell_type": "code",
   "execution_count": 18,
   "metadata": {},
   "outputs": [
    {
     "data": {
      "text/plain": [
       "732846.903600606"
      ]
     },
     "execution_count": 18,
     "metadata": {},
     "output_type": "execute_result"
    }
   ],
   "source": [
    "#Kiezen van mate van precisie. Hier kan mee worden gespeeld.\n",
    "#Op basis hiervan bepalen hoeveel foto's uit analyse worden verwijderd...???\n",
    "threshold_90_precision = thresholds[np.argmax(precisions >= 0.90)]\n",
    "threshold_90_precision"
   ]
  },
  {
   "cell_type": "code",
   "execution_count": 19,
   "metadata": {},
   "outputs": [
    {
     "data": {
      "text/plain": [
       "0.9001148105625718"
      ]
     },
     "execution_count": 19,
     "metadata": {},
     "output_type": "execute_result"
    }
   ],
   "source": [
    "y_train_pred_90 = (y_scores >= threshold_90_precision)\n",
    "precision_score(y_train_niets, y_train_pred_90)"
   ]
  },
  {
   "cell_type": "code",
   "execution_count": 20,
   "metadata": {},
   "outputs": [
    {
     "data": {
      "text/plain": [
       "0.7006255585344057"
      ]
     },
     "execution_count": 20,
     "metadata": {},
     "output_type": "execute_result"
    }
   ],
   "source": [
    "recall_score(y_train_niets, y_train_pred_90)"
   ]
  },
  {
   "cell_type": "code",
   "execution_count": 21,
   "metadata": {},
   "outputs": [
    {
     "data": {
      "text/plain": [
       "0.7879396984924623"
      ]
     },
     "execution_count": 21,
     "metadata": {},
     "output_type": "execute_result"
    }
   ],
   "source": [
    "f1_score(y_train_niets, y_train_pred_90)"
   ]
  },
  {
   "cell_type": "code",
   "execution_count": 22,
   "metadata": {},
   "outputs": [
    {
     "data": {
      "text/plain": [
       "SGDClassifier(random_state=42)"
      ]
     },
     "execution_count": 22,
     "metadata": {},
     "output_type": "execute_result"
    }
   ],
   "source": [
    "#Multiclass classificatie \n",
    "#OvA classifier\n",
    "sgd_clf_multi = SGDClassifier(max_iter=1000, tol=1e-3, random_state=42)\n",
    "sgd_clf_multi.fit(X_train_array, y_train_array)  "
   ]
  },
  {
   "cell_type": "code",
   "execution_count": 23,
   "metadata": {},
   "outputs": [
    {
     "data": {
      "text/plain": [
       "array([1], dtype=int64)"
      ]
     },
     "execution_count": 23,
     "metadata": {},
     "output_type": "execute_result"
    }
   ],
   "source": [
    "(sgd_clf_multi.predict([X_test_array[3]]))"
   ]
  },
  {
   "cell_type": "code",
   "execution_count": 24,
   "metadata": {},
   "outputs": [
    {
     "data": {
      "image/png": "[encoded data removed]",
      "text/plain": [
       "<Figure size 432x288 with 1 Axes>"
      ]
     },
     "metadata": {
      "needs_background": "light"
     },
     "output_type": "display_data"
    }
   ],
   "source": [
    "image = X_test_array[3].reshape(44,80)\n",
    "plt.imshow(image, cmap = mpl.cm.binary, interpolation=\"nearest\")\n",
    "plt.axis(\"off\")\n",
    "plt.show()"
   ]
  },
  {
   "cell_type": "code",
   "execution_count": 25,
   "metadata": {},
   "outputs": [
    {
     "data": {
      "text/plain": [
       "1"
      ]
     },
     "execution_count": 25,
     "metadata": {},
     "output_type": "execute_result"
    }
   ],
   "source": [
    "y_test_array[3]"
   ]
  },
  {
   "cell_type": "code",
   "execution_count": 26,
   "metadata": {},
   "outputs": [
    {
     "data": {
      "text/plain": [
       "'20220213_114628.jpg'"
      ]
     },
     "execution_count": 26,
     "metadata": {},
     "output_type": "execute_result"
    }
   ],
   "source": [
    "naam_test_array[3]"
   ]
  },
  {
   "cell_type": "code",
   "execution_count": 27,
   "metadata": {},
   "outputs": [
    {
     "data": {
      "text/plain": [
       "array([[-2872270.38507496,  3561173.81377103, -3157009.90567823]])"
      ]
     },
     "execution_count": 27,
     "metadata": {},
     "output_type": "execute_result"
    }
   ],
   "source": [
    "some_digit_scores = sgd_clf_multi.decision_function([X_test_array[3]])\n",
    "some_digit_scores"
   ]
  },
  {
   "cell_type": "code",
   "execution_count": 28,
   "metadata": {},
   "outputs": [
    {
     "data": {
      "text/plain": [
       "array([0.890625  , 0.86647727, 0.87926136])"
      ]
     },
     "execution_count": 28,
     "metadata": {},
     "output_type": "execute_result"
    }
   ],
   "source": [
    "#cross validatie: verwachte score is 33%\n",
    "from sklearn.model_selection import cross_val_score\n",
    "cross_val_score(sgd_clf_multi, X_train_array, y_train_array, cv=3, scoring=\"accuracy\")"
   ]
  },
  {
   "cell_type": "code",
   "execution_count": 29,
   "metadata": {},
   "outputs": [
    {
     "data": {
      "text/plain": [
       "OneVsOneClassifier(estimator=SGDClassifier(random_state=42))"
      ]
     },
     "execution_count": 29,
     "metadata": {},
     "output_type": "execute_result"
    }
   ],
   "source": [
    "#OvO classifier\n",
    "from sklearn.multiclass import OneVsOneClassifier\n",
    "ovo_clf = OneVsOneClassifier(SGDClassifier(random_state=42))\n",
    "ovo_clf.fit(X_train_array, y_train_array)"
   ]
  },
  {
   "cell_type": "code",
   "execution_count": 30,
   "metadata": {},
   "outputs": [
    {
     "data": {
      "text/plain": [
       "array([1], dtype=int64)"
      ]
     },
     "execution_count": 30,
     "metadata": {},
     "output_type": "execute_result"
    }
   ],
   "source": [
    "ovo_clf.predict([X_test_array[3]])"
   ]
  },
  {
   "cell_type": "code",
   "execution_count": 31,
   "metadata": {},
   "outputs": [
    {
     "data": {
      "text/plain": [
       "3"
      ]
     },
     "execution_count": 31,
     "metadata": {},
     "output_type": "execute_result"
    }
   ],
   "source": [
    "#aantal schatters: verwacht 3x2/2\n",
    "len(ovo_clf.estimators_)"
   ]
  },
  {
   "cell_type": "code",
   "execution_count": 32,
   "metadata": {},
   "outputs": [
    {
     "data": {
      "text/plain": [
       "array([0.90056818, 0.80397727, 0.83096591])"
      ]
     },
     "execution_count": 32,
     "metadata": {},
     "output_type": "execute_result"
    }
   ],
   "source": [
    "from sklearn.model_selection import cross_val_score\n",
    "cross_val_score(ovo_clf, X_train_array, y_train_array, cv=3, scoring=\"accuracy\")"
   ]
  },
  {
   "cell_type": "code",
   "execution_count": 33,
   "metadata": {},
   "outputs": [
    {
     "data": {
      "text/plain": [
       "RandomForestClassifier(random_state=42)"
      ]
     },
     "execution_count": 33,
     "metadata": {},
     "output_type": "execute_result"
    }
   ],
   "source": [
    "#RandomforestClassifier\n",
    "from sklearn.ensemble import RandomForestClassifier\n",
    "forest_clf = RandomForestClassifier(random_state=42)\n",
    "forest_clf.fit(X_train_array, y_train_array)"
   ]
  },
  {
   "cell_type": "code",
   "execution_count": 34,
   "metadata": {},
   "outputs": [
    {
     "data": {
      "text/plain": [
       "array([1], dtype=int64)"
      ]
     },
     "execution_count": 34,
     "metadata": {},
     "output_type": "execute_result"
    }
   ],
   "source": [
    "forest_clf.predict([X_test_array[3]])"
   ]
  },
  {
   "cell_type": "code",
   "execution_count": 35,
   "metadata": {},
   "outputs": [
    {
     "data": {
      "text/plain": [
       "array([[0.02 , 0.795, 0.185]])"
      ]
     },
     "execution_count": 35,
     "metadata": {},
     "output_type": "execute_result"
    }
   ],
   "source": [
    "forest_clf.predict_proba([X_test_array[3]])"
   ]
  },
  {
   "cell_type": "code",
   "execution_count": 36,
   "metadata": {},
   "outputs": [
    {
     "data": {
      "text/plain": [
       "array([0.93465909, 0.93892045, 0.9375    ])"
      ]
     },
     "execution_count": 36,
     "metadata": {},
     "output_type": "execute_result"
    }
   ],
   "source": [
    "from sklearn.model_selection import cross_val_score\n",
    "cross_val_score(forest_clf, X_train_array, y_train_array, cv=3, scoring=\"accuracy\")"
   ]
  },
  {
   "cell_type": "code",
   "execution_count": 37,
   "metadata": {},
   "outputs": [
    {
     "data": {
      "text/plain": [
       "array([[1108,   10,    1],\n",
       "       [  50,  600,   32],\n",
       "       [   3,   37,  271]], dtype=int64)"
      ]
     },
     "execution_count": 37,
     "metadata": {},
     "output_type": "execute_result"
    }
   ],
   "source": [
    "#Confusion matrix voor forestClassifier\n",
    "#rijen zijn gegeven klasses, kolommen voorspelde\n",
    "from sklearn.model_selection import cross_val_predict\n",
    "from sklearn.metrics import confusion_matrix\n",
    "y_train_forestPred = cross_val_predict(forest_clf, X_train_array, y_train_array, cv=3)\n",
    "conf_mx = confusion_matrix(y_train_array, y_train_forestPred)\n",
    "conf_mx"
   ]
  },
  {
   "cell_type": "code",
   "execution_count": 38,
   "metadata": {},
   "outputs": [
    {
     "data": {
      "image/png": "[encoded data removed]",
      "text/plain": [
       "<Figure size 288x288 with 1 Axes>"
      ]
     },
     "metadata": {
      "needs_background": "light"
     },
     "output_type": "display_data"
    }
   ],
   "source": [
    "plt.matshow(conf_mx, cmap=plt.cm.gray)\n",
    "plt.show()"
   ]
  },
  {
   "cell_type": "code",
   "execution_count": 39,
   "metadata": {},
   "outputs": [
    {
     "data": {
      "image/png": "[encoded data removed]",
      "text/plain": [
       "<Figure size 288x288 with 1 Axes>"
      ]
     },
     "metadata": {
      "needs_background": "light"
     },
     "output_type": "display_data"
    }
   ],
   "source": [
    "row_sums = conf_mx.sum(axis=1, keepdims=True)\n",
    "norm_conf_mx = conf_mx / row_sums\n",
    "np.fill_diagonal(norm_conf_mx, 0)\n",
    "plt.matshow(norm_conf_mx, cmap=plt.cm.gray)\n",
    "plt.show()"
   ]
  },
  {
   "cell_type": "markdown",
   "metadata": {},
   "source": [
    "Or you could preprocess the images (e.g., using Scikit-Image, Pillow, or\n",
    "\n",
    "OpenCV) to make some patterns stand out more, such as closed loops.\n",
    "\n",
    "Analyzing individual errors can also be a good way to gain insights on what your\n",
    "\n",
    "classifier is doing and why it is failing, but it is more difficult and time-consuming.\n",
    "\n",
    "Bij ons kan vooral aanwezig of buiten scherper worden gesteld (Wit vak is eigenlijk geclassificeerd onder buiten, maar wordt voorspeld als aanwezig...)"
   ]
  },
  {
   "cell_type": "code",
   "execution_count": 40,
   "metadata": {},
   "outputs": [
    {
     "data": {
      "text/plain": [
       "VotingClassifier(estimators=[('forest',\n",
       "                              RandomForestClassifier(random_state=42)),\n",
       "                             ('ovo',\n",
       "                              OneVsOneClassifier(estimator=SGDClassifier(random_state=42))),\n",
       "                             ('ova', SGDClassifier(random_state=42))])"
      ]
     },
     "execution_count": 40,
     "metadata": {},
     "output_type": "execute_result"
    }
   ],
   "source": [
    "#Votingclassifier toevoegen? \n",
    "from sklearn.ensemble import VotingClassifier\n",
    "voting_clf = VotingClassifier(estimators=[('forest', forest_clf), ('ovo', ovo_clf), ('ova', sgd_clf_multi)],voting='hard')\n",
    "voting_clf.fit(X_train_array, y_train_array)"
   ]
  },
  {
   "cell_type": "code",
   "execution_count": 41,
   "metadata": {},
   "outputs": [
    {
     "data": {
      "text/plain": [
       "array([1], dtype=int64)"
      ]
     },
     "execution_count": 41,
     "metadata": {},
     "output_type": "execute_result"
    }
   ],
   "source": [
    "voting_clf.predict([X_test_array[3]])"
   ]
  },
  {
   "cell_type": "code",
   "execution_count": 42,
   "metadata": {},
   "outputs": [
    {
     "data": {
      "text/plain": [
       "array([0.91761364, 0.88068182, 0.890625  ])"
      ]
     },
     "execution_count": 42,
     "metadata": {},
     "output_type": "execute_result"
    }
   ],
   "source": [
    "cross_val_score(voting_clf, X_train_array, y_train_array, cv=3, scoring=\"accuracy\")"
   ]
  },
  {
   "cell_type": "code",
   "execution_count": 43,
   "metadata": {},
   "outputs": [
    {
     "name": "stdout",
     "output_type": "stream",
     "text": [
      "SGDClassifier 0.9109848484848485\n",
      "OneVsOneClassifier 0.8674242424242424\n",
      "RandomForestClassifier 0.9450757575757576\n",
      "VotingClassifier 0.9393939393939394\n"
     ]
    }
   ],
   "source": [
    "from sklearn.metrics import accuracy_score\n",
    "for clf in (sgd_clf_multi, ovo_clf, forest_clf, voting_clf):\n",
    " clf.fit(X_train_array, y_train_array)\n",
    " y_pred = clf.predict(X_test_array)\n",
    " print(clf.__class__.__name__, accuracy_score(y_test_array, y_pred))"
   ]
  },
  {
   "cell_type": "markdown",
   "metadata": {},
   "source": [
    "Alle Pixels\n",
    "\n",
    "  SGDClassifier 0.8560606060606061\n",
    "\n",
    "  OneVsOneClassifier 0.9318181818181818\n",
    "\n",
    "  RandomForestClassifier 0.9412878787878788\n",
    "  \n",
    "  VotingClassifier 0.9223484848484849\n",
    "\n"
   ]
  },
  {
   "cell_type": "markdown",
   "metadata": {},
   "source": [
    "Pixels / 2\n",
    "\n",
    "SGDClassifier 0.928030303030303\n",
    "\n",
    "OneVsOneClassifier 0.9109848484848485\n",
    "\n",
    "RandomForestClassifier 0.9431818181818182\n",
    "\n",
    "VotingClassifier 0.9450757575757576"
   ]
  },
  {
   "cell_type": "markdown",
   "metadata": {},
   "source": [
    "Pixels / 4\n",
    "\n",
    "SGDClassifier 0.7973484848484849\n",
    "\n",
    "OneVsOneClassifier 0.7215909090909091\n",
    "\n",
    "RandomForestClassifier 0.9450757575757576\n",
    "\n",
    "VotingClassifier 0.9412878787878788"
   ]
  },
  {
   "cell_type": "markdown",
   "metadata": {},
   "source": [
    "Pixels / 8\n",
    "\n",
    "SGDClassifier 0.9109848484848485\n",
    "\n",
    "OneVsOneClassifier 0.8674242424242424\n",
    "\n",
    "RandomForestClassifier 0.9450757575757576\n",
    "\n",
    "VotingClassifier 0.9393939393939394"
   ]
  }
 ],
 "metadata": {
  "interpreter": {
   "hash": "55d263330900eac1e1f11d320664b4f1ad54abd5c72a47286ee5c6726dcf5d30"
  },
  "kernelspec": {
   "display_name": "Python 3.10.2 64-bit",
   "language": "python",
   "name": "python3"
  },
  "language_info": {
   "codemirror_mode": {
    "name": "ipython",
    "version": 3
   },
   "file_extension": ".py",
   "mimetype": "text/x-python",
   "name": "python",
   "nbconvert_exporter": "python",
   "pygments_lexer": "ipython3",
   "version": "3.10.2"
  },
  "orig_nbformat": 4
 },
 "nbformat": 4,
 "nbformat_minor": 2
}
